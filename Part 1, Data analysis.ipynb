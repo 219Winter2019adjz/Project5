{
 "cells": [
  {
   "cell_type": "code",
   "execution_count": 4,
   "metadata": {},
   "outputs": [],
   "source": [
    "import numpy as np\n",
    "import pandas as pd\n",
    "import os\n",
    "import matplotlib.pyplot as plt\n",
    "import sys\n",
    "import json\n",
    "from datetime import datetime\n",
    "from tqdm import tqdm\n",
    "from pprint import pprint\n",
    "%matplotlib inline\n",
    "\n",
    "# Ignore warnings\n",
    "import warnings\n",
    "warnings.filterwarnings(\"ignore\")\n",
    "\n",
    "# training and Testing directories\n",
    "training_dir = os.path.join(\"Datasets\", \"Training\")\n",
    "testing_dir = os.path.join(\"Datasets\", \"Testing\")\n",
    "if not os.path.isdir(training_dir):\n",
    "    raise Exception(\"ERROR: training dataset not found\")\n",
    "if not os.path.isdir(testing_dir):\n",
    "    raise Exception(\"ERROR: testing dataset not found\")"
   ]
  },
  {
   "cell_type": "markdown",
   "metadata": {},
   "source": [
    "## Part 1: Analyzing the data"
   ]
  },
  {
   "cell_type": "markdown",
   "metadata": {},
   "source": [
    "Size/RAM experiments: loading all training as lists requires approximately 10.3 GB of RAM. It is suggested to only extract the features you need each time"
   ]
  },
  {
   "cell_type": "code",
   "execution_count": 5,
   "metadata": {},
   "outputs": [
    {
     "name": "stdout",
     "output_type": "stream",
     "text": [
      "Datasets\\Training\\tweets_#gohawks.txt\n",
      "Datasets\\Training\\tweets_#gopatriots.txt\n",
      "Datasets\\Training\\tweets_#nfl.txt\n",
      "Datasets\\Training\\tweets_#patriots.txt\n",
      "Datasets\\Training\\tweets_#sb49.txt\n",
      "Datasets\\Training\\tweets_#superbowl.txt\n"
     ]
    }
   ],
   "source": [
    "# iterate over all hashtag files \n",
    "for root, dirs, files in os.walk(training_dir, topdown=False):\n",
    "    for file in files:\n",
    "        print(os.path.join(root, file))"
   ]
  },
  {
   "cell_type": "markdown",
   "metadata": {},
   "source": [
    "##### Question 1: Get statistics"
   ]
  },
  {
   "cell_type": "code",
   "execution_count": 6,
   "metadata": {},
   "outputs": [
    {
     "name": "stdout",
     "output_type": "stream",
     "text": [
      "Parsing gohawks...\n",
      "{'author': {'author_img': 'http://pbs.twimg.com/profile_images/561716455155064833/XGrpP4Rl_normal.jpeg',\n",
      "            'description': 'Married to my best friend... You-make me laugh and '\n",
      "                           'occasionally think... I-will let you in on some of '\n",
      "                           'the crazy shit that consumes my thoughts...',\n",
      "            'followers': 1752.0,\n",
      "            'image_url': 'http://pbs.twimg.com/profile_images/561716455155064833/XGrpP4Rl_normal.jpeg',\n",
      "            'name': 'RJ',\n",
      "            'nick': 'rejinseattle',\n",
      "            'type': 'twitter',\n",
      "            'url': 'http://twitter.com/rejinseattle'},\n",
      " 'citation_date': 1421518778,\n",
      " 'citation_url': 'http://twitter.com/REJinseattle/status/556516209261166593',\n",
      " 'firstpost_date': 1419804875,\n",
      " 'highlight': 'I &lt;3 our defense! #GoHawks http://t.co/U1pcXpEsR8',\n",
      " 'metrics': {'acceleration': 0,\n",
      "             'citations': {'data': [{'citations': 1, 'timestamp': 1421518739}],\n",
      "                           'influential': 0,\n",
      "                           'matching': 1,\n",
      "                           'replies': 0,\n",
      "                           'total': 5},\n",
      "             'impressions': 1754,\n",
      "             'momentum': 1,\n",
      "             'peak': 1421518799,\n",
      "             'ranking_score': 4.7437034},\n",
      " 'original_author': {'author_img': 'http://pbs.twimg.com/profile_images/547474027204591617/kgP4YJMW_normal.jpeg',\n",
      "                     'description': 'Food, Fitness, '\n",
      "                                    'Football                                    '\n",
      "                                    '#EatClean #FitFam #GoHawks',\n",
      "                     'followers': 2534.0,\n",
      "                     'image_url': 'http://pbs.twimg.com/profile_images/547474027204591617/kgP4YJMW_normal.jpeg',\n",
      "                     'influence_level': 0.0,\n",
      "                     'name': 'Michelle',\n",
      "                     'nick': 'mich_fit',\n",
      "                     'type': 'twitter',\n",
      "                     'url': 'http://twitter.com/mich_fit'},\n",
      " 'title': 'I &lt;3 our defense! #GoHawks http://t.co/U1pcXpEsR8',\n",
      " 'tweet': {'contributors': None,\n",
      "           'coordinates': None,\n",
      "           'created_at': 'Sun Dec 28 22:14:35 +0000 2014',\n",
      "           'entities': {'hashtags': [{'indices': [21, 29], 'text': 'GoHawks'}],\n",
      "                        'media': [{'display_url': 'pic.twitter.com/U1pcXpEsR8',\n",
      "                                   'expanded_url': 'http://twitter.com/Mich_Fit/status/549327579782840320/photo/1',\n",
      "                                   'id': 549327579392798720,\n",
      "                                   'id_str': '549327579392798720',\n",
      "                                   'indices': [30, 52],\n",
      "                                   'media_url': 'http://pbs.twimg.com/media/B5-aheMIcAAqGtA.jpg',\n",
      "                                   'media_url_https': 'https://pbs.twimg.com/media/B5-aheMIcAAqGtA.jpg',\n",
      "                                   'sizes': {'large': {'h': 511,\n",
      "                                                       'resize': 'fit',\n",
      "                                                       'w': 511},\n",
      "                                             'medium': {'h': 511,\n",
      "                                                        'resize': 'fit',\n",
      "                                                        'w': 511},\n",
      "                                             'small': {'h': 340,\n",
      "                                                       'resize': 'fit',\n",
      "                                                       'w': 340},\n",
      "                                             'thumb': {'h': 150,\n",
      "                                                       'resize': 'crop',\n",
      "                                                       'w': 150}},\n",
      "                                   'type': 'photo',\n",
      "                                   'url': 'http://t.co/U1pcXpEsR8'}],\n",
      "                        'symbols': [],\n",
      "                        'trends': [],\n",
      "                        'urls': [],\n",
      "                        'user_mentions': []},\n",
      "           'extended_entities': {'media': [{'display_url': 'pic.twitter.com/U1pcXpEsR8',\n",
      "                                            'expanded_url': 'http://twitter.com/Mich_Fit/status/549327579782840320/photo/1',\n",
      "                                            'id': 549327579392798720,\n",
      "                                            'id_str': '549327579392798720',\n",
      "                                            'indices': [30, 52],\n",
      "                                            'media_url': 'http://pbs.twimg.com/media/B5-aheMIcAAqGtA.jpg',\n",
      "                                            'media_url_https': 'https://pbs.twimg.com/media/B5-aheMIcAAqGtA.jpg',\n",
      "                                            'sizes': {'large': {'h': 511,\n",
      "                                                                'resize': 'fit',\n",
      "                                                                'w': 511},\n",
      "                                                      'medium': {'h': 511,\n",
      "                                                                 'resize': 'fit',\n",
      "                                                                 'w': 511},\n",
      "                                                      'small': {'h': 340,\n",
      "                                                                'resize': 'fit',\n",
      "                                                                'w': 340},\n",
      "                                                      'thumb': {'h': 150,\n",
      "                                                                'resize': 'crop',\n",
      "                                                                'w': 150}},\n",
      "                                            'type': 'photo',\n",
      "                                            'url': 'http://t.co/U1pcXpEsR8'}]},\n",
      "           'favorite_count': 1,\n",
      "           'favorited': False,\n",
      "           'filter_level': 'low',\n",
      "           'geo': None,\n",
      "           'id': 549327579782840320,\n",
      "           'id_str': '549327579782840320',\n",
      "           'in_reply_to_screen_name': None,\n",
      "           'in_reply_to_status_id': None,\n",
      "           'in_reply_to_status_id_str': None,\n",
      "           'in_reply_to_user_id': None,\n",
      "           'in_reply_to_user_id_str': None,\n",
      "           'lang': 'en',\n",
      "           'place': None,\n",
      "           'possibly_sensitive': False,\n",
      "           'retweet_count': 2,\n",
      "           'retweeted': False,\n",
      "           'source': '<a href=\"http://twitter.com\" rel=\"nofollow\">Twitter Web '\n",
      "                     'Client</a>',\n",
      "           'text': 'I &lt;3 our defense! #GoHawks http://t.co/U1pcXpEsR8',\n",
      "           'truncated': False,\n",
      "           'user': {'contributors_enabled': False,\n",
      "                    'created_at': 'Fri Aug 10 12:00:57 +0000 2012',\n",
      "                    'default_profile': True,\n",
      "                    'default_profile_image': False,\n",
      "                    'description': 'Food, Fitness, '\n",
      "                                   'Football                                    '\n",
      "                                   '#EatClean #FitFam #GoHawks',\n",
      "                    'favourites_count': 9490,\n",
      "                    'follow_request_sent': None,\n",
      "                    'followers_count': 2318,\n",
      "                    'following': None,\n",
      "                    'friends_count': 2025,\n",
      "                    'geo_enabled': True,\n",
      "                    'id': 749230320,\n",
      "                    'id_str': '749230320',\n",
      "                    'is_translator': False,\n",
      "                    'lang': 'en',\n",
      "                    'listed_count': 32,\n",
      "                    'location': 'Ontario',\n",
      "                    'name': 'Michelle',\n",
      "                    'notifications': None,\n",
      "                    'profile_background_color': 'C0DEED',\n",
      "                    'profile_background_image_url': 'http://abs.twimg.com/images/themes/theme1/bg.png',\n",
      "                    'profile_background_image_url_https': 'https://abs.twimg.com/images/themes/theme1/bg.png',\n",
      "                    'profile_background_tile': False,\n",
      "                    'profile_banner_url': 'https://pbs.twimg.com/profile_banners/749230320/1413579075',\n",
      "                    'profile_image_url': 'http://pbs.twimg.com/profile_images/547474027204591617/kgP4YJMW_normal.jpeg',\n",
      "                    'profile_image_url_https': 'https://pbs.twimg.com/profile_images/547474027204591617/kgP4YJMW_normal.jpeg',\n",
      "                    'profile_link_color': '0084B4',\n",
      "                    'profile_sidebar_border_color': 'C0DEED',\n",
      "                    'profile_sidebar_fill_color': 'DDEEF6',\n",
      "                    'profile_text_color': '333333',\n",
      "                    'profile_use_background_image': True,\n",
      "                    'protected': False,\n",
      "                    'screen_name': 'Mich_Fit',\n",
      "                    'statuses_count': 12477,\n",
      "                    'time_zone': None,\n",
      "                    'url': None,\n",
      "                    'utc_offset': None,\n",
      "                    'verified': False}},\n",
      " 'type': 'retweet:native',\n",
      " 'url': 'http://twitter.com/Mich_Fit/status/549327579782840320'}\n",
      "\t----------\n",
      "\tnumber of tweets in period: 0\n"
     ]
    },
    {
     "ename": "ValueError",
     "evalue": "zero-size array to reduction operation minimum which has no identity",
     "output_type": "error",
     "traceback": [
      "\u001b[1;31m---------------------------------------------------------------------------\u001b[0m",
      "\u001b[1;31mValueError\u001b[0m                                Traceback (most recent call last)",
      "\u001b[1;32m<ipython-input-6-85221e5844e4>\u001b[0m in \u001b[0;36m<module>\u001b[1;34m\u001b[0m\n\u001b[0;32m     35\u001b[0m         \u001b[0mcitation_dates\u001b[0m \u001b[1;33m=\u001b[0m \u001b[0mnp\u001b[0m\u001b[1;33m.\u001b[0m\u001b[0marray\u001b[0m\u001b[1;33m(\u001b[0m\u001b[0mcitation_dates\u001b[0m\u001b[1;33m)\u001b[0m\u001b[1;33m\u001b[0m\u001b[0m\n\u001b[0;32m     36\u001b[0m         \u001b[0mprint\u001b[0m\u001b[1;33m(\u001b[0m\u001b[1;34m'\\tnumber of tweets in period: {}'\u001b[0m\u001b[1;33m.\u001b[0m\u001b[0mformat\u001b[0m\u001b[1;33m(\u001b[0m\u001b[0mlen\u001b[0m\u001b[1;33m(\u001b[0m\u001b[0mcitation_dates\u001b[0m\u001b[1;33m)\u001b[0m\u001b[1;33m)\u001b[0m\u001b[1;33m)\u001b[0m\u001b[1;33m\u001b[0m\u001b[0m\n\u001b[1;32m---> 37\u001b[1;33m         \u001b[0mmin_date\u001b[0m \u001b[1;33m=\u001b[0m \u001b[0mnp\u001b[0m\u001b[1;33m.\u001b[0m\u001b[0mmin\u001b[0m\u001b[1;33m(\u001b[0m\u001b[0mcitation_dates\u001b[0m\u001b[1;33m)\u001b[0m\u001b[1;33m\u001b[0m\u001b[0m\n\u001b[0m\u001b[0;32m     38\u001b[0m         \u001b[0mmax_date\u001b[0m \u001b[1;33m=\u001b[0m \u001b[0mnp\u001b[0m\u001b[1;33m.\u001b[0m\u001b[0mmax\u001b[0m\u001b[1;33m(\u001b[0m\u001b[0mcitation_dates\u001b[0m\u001b[1;33m)\u001b[0m\u001b[1;33m\u001b[0m\u001b[0m\n\u001b[0;32m     39\u001b[0m \u001b[1;33m\u001b[0m\u001b[0m\n",
      "\u001b[1;32m~\\AppData\\Local\\Programs\\Python\\Python35\\lib\\site-packages\\numpy\\core\\fromnumeric.py\u001b[0m in \u001b[0;36mamin\u001b[1;34m(a, axis, out, keepdims, initial)\u001b[0m\n\u001b[0;32m   2616\u001b[0m     \"\"\"\n\u001b[0;32m   2617\u001b[0m     return _wrapreduction(a, np.minimum, 'min', axis, None, out, keepdims=keepdims,\n\u001b[1;32m-> 2618\u001b[1;33m                           initial=initial)\n\u001b[0m\u001b[0;32m   2619\u001b[0m \u001b[1;33m\u001b[0m\u001b[0m\n\u001b[0;32m   2620\u001b[0m \u001b[1;33m\u001b[0m\u001b[0m\n",
      "\u001b[1;32m~\\AppData\\Local\\Programs\\Python\\Python35\\lib\\site-packages\\numpy\\core\\fromnumeric.py\u001b[0m in \u001b[0;36m_wrapreduction\u001b[1;34m(obj, ufunc, method, axis, dtype, out, **kwargs)\u001b[0m\n\u001b[0;32m     84\u001b[0m                 \u001b[1;32mreturn\u001b[0m \u001b[0mreduction\u001b[0m\u001b[1;33m(\u001b[0m\u001b[0maxis\u001b[0m\u001b[1;33m=\u001b[0m\u001b[0maxis\u001b[0m\u001b[1;33m,\u001b[0m \u001b[0mout\u001b[0m\u001b[1;33m=\u001b[0m\u001b[0mout\u001b[0m\u001b[1;33m,\u001b[0m \u001b[1;33m**\u001b[0m\u001b[0mpasskwargs\u001b[0m\u001b[1;33m)\u001b[0m\u001b[1;33m\u001b[0m\u001b[0m\n\u001b[0;32m     85\u001b[0m \u001b[1;33m\u001b[0m\u001b[0m\n\u001b[1;32m---> 86\u001b[1;33m     \u001b[1;32mreturn\u001b[0m \u001b[0mufunc\u001b[0m\u001b[1;33m.\u001b[0m\u001b[0mreduce\u001b[0m\u001b[1;33m(\u001b[0m\u001b[0mobj\u001b[0m\u001b[1;33m,\u001b[0m \u001b[0maxis\u001b[0m\u001b[1;33m,\u001b[0m \u001b[0mdtype\u001b[0m\u001b[1;33m,\u001b[0m \u001b[0mout\u001b[0m\u001b[1;33m,\u001b[0m \u001b[1;33m**\u001b[0m\u001b[0mpasskwargs\u001b[0m\u001b[1;33m)\u001b[0m\u001b[1;33m\u001b[0m\u001b[0m\n\u001b[0m\u001b[0;32m     87\u001b[0m \u001b[1;33m\u001b[0m\u001b[0m\n\u001b[0;32m     88\u001b[0m \u001b[1;33m\u001b[0m\u001b[0m\n",
      "\u001b[1;31mValueError\u001b[0m: zero-size array to reduction operation minimum which has no identity"
     ]
    }
   ],
   "source": [
    "# iterate over all hashtag files \n",
    "for root, dirs, files in os.walk(training_dir, topdown=False):\n",
    "    for file in files:\n",
    "        filename = os.path.splitext(file)[0].replace('tweets_#', '')\n",
    "        print('Parsing {}...'.format(filename))\n",
    "        \n",
    "        # only extracting specific features from the tweet json objects\n",
    "        citation_dates = []\n",
    "        followers = []\n",
    "        retweets = []\n",
    "        \n",
    "        # open the file and read all lines:\n",
    "        with open(os.path.join(root, file), \"r\", encoding=\"utf-8\") as hashtag:\n",
    "            # read line-by-line\n",
    "            for line in hashtag:\n",
    "                json_obj = json.loads(line)\n",
    "                \n",
    "                # get citation date\n",
    "                citation_date = json_obj['citation_date']\n",
    "                citation_dates.append(citation_date)\n",
    "                \n",
    "                # get number of followers for the author of eath tweet\n",
    "                follower_count = json_obj['author']['followers']\n",
    "                followers.append(follower_count)\n",
    "                \n",
    "                # get retweets\n",
    "                retweet_total = json_obj['metrics']['citations']['total']\n",
    "                retweets.append(retweet_total)\n",
    "        \n",
    "        # processing citation feature\n",
    "        print('\\t'+'-'*10)\n",
    "        citation_dates = np.array(citation_dates)\n",
    "        print('\\tnumber of tweets in period: {}'.format(len(citation_dates)))\n",
    "        min_date = np.min(citation_dates)\n",
    "        max_date = np.max(citation_dates)\n",
    "        \n",
    "        span_hours = (max_date - min_date)/60\n",
    "        print('\\tnumber of hours in period: {}'.format(span_hours))\n",
    "        \n",
    "        tweets_per_hour = len(citation_dates) / span_hours\n",
    "        print('\\taverage tweets per hour: {}'.format(tweets_per_hour))\n",
    "        \n",
    "        # processing followers feature\n",
    "        print('\\t'+'-'*10)\n",
    "        followers = np.array(followers)\n",
    "        follower_avg = np.average(followers)\n",
    "        print('\\taverage followers per tweeter: {}'.format(follower_avg))\n",
    "        \n",
    "        # processing retweets feature\n",
    "        print('\\t'+'-'*10)\n",
    "        retweets = np.array(retweets)\n",
    "        retweet_avg = np.average(retweets)\n",
    "        print('\\taverage retweets per tweet: {}'.format(retweet_avg))\n",
    "        \n",
    "        print('\\t'+'-'*10)\n",
    "        print('')"
   ]
  },
  {
   "cell_type": "markdown",
   "metadata": {},
   "source": [
    "##### Question 2: Number of tweets every hour"
   ]
  },
  {
   "cell_type": "code",
   "execution_count": 8,
   "metadata": {},
   "outputs": [
    {
     "name": "stdout",
     "output_type": "stream",
     "text": [
      "Parsing nfl...\n"
     ]
    },
    {
     "name": "stderr",
     "output_type": "stream",
     "text": [
      "100%|██████████| 233022/233022 [00:19<00:00, 12221.68it/s]\n"
     ]
    },
    {
     "name": "stdout",
     "output_type": "stream",
     "text": [
      "1421222404\n",
      "2015-01-14 00:00:04\n"
     ]
    },
    {
     "data": {
      "image/png": "[encoded data removed]",
      "text/plain": [
       "<Figure size 432x288 with 1 Axes>"
      ]
     },
     "metadata": {
      "needs_background": "light"
     },
     "output_type": "display_data"
    },
    {
     "name": "stdout",
     "output_type": "stream",
     "text": [
      "Parsing superbowl...\n"
     ]
    },
    {
     "name": "stderr",
     "output_type": "stream",
     "text": [
      "100%|██████████| 1213813/1213813 [01:32<00:00, 13143.80it/s]\n"
     ]
    },
    {
     "name": "stdout",
     "output_type": "stream",
     "text": [
      "1421223187\n",
      "2015-01-14 00:13:07\n"
     ]
    },
    {
     "data": {
      "image/png": "[encoded data removed]",
      "text/plain": [
       "<Figure size 432x288 with 1 Axes>"
      ]
     },
     "metadata": {
      "needs_background": "light"
     },
     "output_type": "display_data"
    }
   ],
   "source": [
    "only_parse = ['superbowl', 'nfl']\n",
    "file_lengths = {\n",
    "    'superbowl': 1213813,\n",
    "    'nfl': 233022\n",
    "}\n",
    "\n",
    "# iterate over all hashtag files \n",
    "for root, dirs, files in os.walk(training_dir, topdown=False):\n",
    "    for file in files:\n",
    "        filename = os.path.splitext(file)[0].replace('tweets_#', '')\n",
    "        \n",
    "        if not filename in only_parse:\n",
    "            # skip if not focussed on this hashtag\n",
    "            continue\n",
    "            \n",
    "        print('Parsing {}...'.format(filename))\n",
    "        \n",
    "        # only extracting specific features from the tweet json objects\n",
    "        citation_dates = []\n",
    "        \n",
    "        # open the file and read all lines:\n",
    "        with open(os.path.join(root, file), \"r\", encoding=\"utf-8\") as hashtag:\n",
    "            # read line-by-line\n",
    "            for line in tqdm(hashtag, total=file_lengths[filename]):\n",
    "                json_obj = json.loads(line)\n",
    "                \n",
    "                # get citation date\n",
    "                citation_date = json_obj['citation_date']\n",
    "                citation_dates.append(citation_date)\n",
    "        \n",
    "        # processing citation feature\n",
    "        citation_dates = np.array(citation_dates)\n",
    "        min_date = np.min(citation_dates)\n",
    "        max_date = np.max(citation_dates)\n",
    "        print(min_date)\n",
    "        print(datetime.fromtimestamp(min_date))\n",
    "        \n",
    "        # get the bins we need\n",
    "        bins = {}\n",
    "        while min_date < max_date:\n",
    "            tweets_in_bin = 0\n",
    "            for citation_date in citation_dates:\n",
    "                if min_date < citation_date < min_date + 3600:\n",
    "                    tweets_in_bin += 1\n",
    "                    \n",
    "            # add tweets_in_bin to bins, with key being the min_date\n",
    "            bins[min_date] = tweets_in_bin\n",
    "            \n",
    "            # increment min_date by an hour\n",
    "            min_date += 3600\n",
    "            \n",
    "#         print(bins)\n",
    "#         print('-'*10)\n",
    "\n",
    "        # plot a bar plot of the bins\n",
    "        plt.title('Tweet activity of #{}'.format(filename))\n",
    "        plt.ylabel('Number of tweets')\n",
    "        plt.xlabel('Hour after first tweet')\n",
    "        plt.ylim(0, np.max(np.array(list(bins.values()))))\n",
    "        plt.bar(np.arange(len(bins.keys())), list(bins.values()))\n",
    "        plt.show()"
   ]
  },
  {
   "cell_type": "code",
   "execution_count": null,
   "metadata": {},
   "outputs": [],
   "source": []
  }
 ],
 "metadata": {
  "kernelspec": {
   "display_name": "Python 3",
   "language": "python",
   "name": "python3"
  },
  "language_info": {
   "codemirror_mode": {
    "name": "ipython",
    "version": 3
   },
   "file_extension": ".py",
   "mimetype": "text/x-python",
   "name": "python",
   "nbconvert_exporter": "python",
   "pygments_lexer": "ipython3",
   "version": "3.5.4"
  }
 },
 "nbformat": 4,
 "nbformat_minor": 2
}
