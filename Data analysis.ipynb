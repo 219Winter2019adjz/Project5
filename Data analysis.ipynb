{
 "cells": [
  {
   "cell_type": "code",
   "execution_count": 1,
   "metadata": {},
   "outputs": [],
   "source": [
    "import numpy as np\n",
    "import pandas as pd\n",
    "import os\n",
    "import matplotlib.pyplot as plt\n",
    "import sys\n",
    "import json\n",
    "from datetime import datetime\n",
    "%matplotlib inline\n",
    "\n",
    "# Ignore warnings\n",
    "import warnings\n",
    "warnings.filterwarnings(\"ignore\")\n",
    "\n",
    "# training and Testing directories\n",
    "training_dir = os.path.join(\"Datasets\", \"Training\")\n",
    "testing_dir = os.path.join(\"Datasets\", \"Testing\")\n",
    "if not os.path.isdir(training_dir):\n",
    "    raise Exception(\"ERROR: training dataset not found\")\n",
    "if not os.path.isdir(testing_dir):\n",
    "    raise Exception(\"ERROR: testing dataset not found\")"
   ]
  },
  {
   "cell_type": "markdown",
   "metadata": {},
   "source": [
    "## Part 1: Analyzing the data"
   ]
  },
  {
   "cell_type": "markdown",
   "metadata": {},
   "source": [
    "Size/RAM experiments: loading all training as lists requires approximately 10.3 GB of RAM. It is suggested to only extract the features you need each time"
   ]
  },
  {
   "cell_type": "code",
   "execution_count": 2,
   "metadata": {},
   "outputs": [
    {
     "name": "stdout",
     "output_type": "stream",
     "text": [
      "Datasets\\Training\\tweets_#gohawks.txt\n",
      "Datasets\\Training\\tweets_#gopatriots.txt\n",
      "Datasets\\Training\\tweets_#nfl.txt\n",
      "Datasets\\Training\\tweets_#patriots.txt\n",
      "Datasets\\Training\\tweets_#sb49.txt\n",
      "Datasets\\Training\\tweets_#superbowl.txt\n"
     ]
    }
   ],
   "source": [
    "# iterate over all hashtag files \n",
    "for root, dirs, files in os.walk(training_dir, topdown=False):\n",
    "    for file in files:\n",
    "        print(os.path.join(root, file))"
   ]
  },
  {
   "cell_type": "markdown",
   "metadata": {},
   "source": [
    "##### Question 1: Get statistics"
   ]
  },
  {
   "cell_type": "code",
   "execution_count": 6,
   "metadata": {},
   "outputs": [
    {
     "name": "stdout",
     "output_type": "stream",
     "text": [
      "Parsing gohawks...\n",
      "\t----------\n",
      "\tnumber of tweets in period: 169122\n",
      "\tnumber of hours in period: 34693.13333333333\n",
      "\taverage tweets per hour: 4.874797510362281\n",
      "\t----------\n",
      "\taverage followers per tweeter: 2217.9237355281984\n",
      "\t----------\n",
      "\taverage retweets per tweet: 2.0132093991319877\n",
      "\t----------\n",
      "\n",
      "Parsing gopatriots...\n",
      "\t----------\n",
      "\tnumber of tweets in period: 23511\n",
      "\tnumber of hours in period: 34444.4\n",
      "\taverage tweets per hour: 0.6825783001010324\n",
      "\t----------\n",
      "\taverage followers per tweeter: 1427.2526051635405\n",
      "\t----------\n",
      "\taverage retweets per tweet: 1.4081919101697078\n",
      "\t----------\n",
      "\n",
      "Parsing nfl...\n",
      "\t----------\n",
      "\tnumber of tweets in period: 233022\n",
      "\tnumber of hours in period: 35215.53333333333\n",
      "\taverage tweets per hour: 6.617023169699735\n",
      "\t----------\n",
      "\taverage followers per tweeter: 4662.37544523693\n",
      "\t----------\n",
      "\taverage retweets per tweet: 1.5344602655543254\n",
      "\t----------\n",
      "\n",
      "Parsing patriots...\n",
      "\t----------\n",
      "\tnumber of tweets in period: 440621\n",
      "\tnumber of hours in period: 35207.7\n",
      "\taverage tweets per hour: 12.514904410114834\n",
      "\t----------\n",
      "\taverage followers per tweeter: 3280.4635616550277\n",
      "\t----------\n",
      "\taverage retweets per tweet: 1.7852871288476946\n",
      "\t----------\n",
      "\n",
      "Parsing sb49...\n",
      "\t----------\n",
      "\tnumber of tweets in period: 743649\n",
      "\tnumber of hours in period: 34944.35\n",
      "\taverage tweets per hour: 21.28095099780079\n",
      "\t----------\n",
      "\taverage followers per tweeter: 10374.160292019487\n",
      "\t----------\n",
      "\taverage retweets per tweet: 2.52713444111402\n",
      "\t----------\n",
      "\n",
      "Parsing superbowl...\n",
      "\t----------\n",
      "\tnumber of tweets in period: 1213813\n",
      "\tnumber of hours in period: 35147.01666666667\n",
      "\taverage tweets per hour: 34.535306695068\n",
      "\t----------\n",
      "\taverage followers per tweeter: 8814.96799424623\n",
      "\t----------\n",
      "\taverage retweets per tweet: 2.3911895819207736\n",
      "\t----------\n",
      "\n"
     ]
    }
   ],
   "source": [
    "# iterate over all hashtag files \n",
    "for root, dirs, files in os.walk(training_dir, topdown=False):\n",
    "    for file in files:\n",
    "        # the name of the key\n",
    "        filename = os.path.splitext(file)[0].replace('tweets_#', '')\n",
    "        print('Parsing {}...'.format(filename))\n",
    "        \n",
    "        # only extracting specific features from the tweet json objects\n",
    "        citation_dates = []\n",
    "        followers = []\n",
    "        retweets = []\n",
    "        \n",
    "        # open the file and read all lines:\n",
    "        with open(os.path.join(root, file), \"r\", encoding=\"utf-8\") as hashtag:\n",
    "            # read line-by-line\n",
    "            for line in hashtag:\n",
    "                json_obj = json.loads(line)\n",
    "                \n",
    "                # get citation date\n",
    "                citation_date = json_obj['citation_date']\n",
    "                citation_dates.append(citation_date)\n",
    "                \n",
    "                # get number of followers for the author of eath tweet\n",
    "                follower_count = json_obj['author']['followers']\n",
    "                followers.append(follower_count)\n",
    "                \n",
    "                # get retweets\n",
    "                retweet_total = json_obj['metrics']['citations']['total']\n",
    "                retweets.append(retweet_total)\n",
    "        \n",
    "        # processing citation feature\n",
    "        print('\\t'+'-'*10)\n",
    "        citation_dates = np.array(citation_dates)\n",
    "        print('\\tnumber of tweets in period: {}'.format(len(citation_dates)))\n",
    "        min_date = np.min(citation_dates)\n",
    "        max_date = np.max(citation_dates)\n",
    "        \n",
    "        span_hours = (max_date - min_date)/60\n",
    "        print('\\tnumber of hours in period: {}'.format(span_hours))\n",
    "        \n",
    "        tweets_per_hour = len(citation_dates) / span_hours\n",
    "        print('\\taverage tweets per hour: {}'.format(tweets_per_hour))\n",
    "        \n",
    "        # processing followers feature\n",
    "        print('\\t'+'-'*10)\n",
    "        followers = np.array(followers)\n",
    "        follower_avg = np.average(followers)\n",
    "        print('\\taverage followers per tweeter: {}'.format(follower_avg))\n",
    "        \n",
    "        # processing retweets feature\n",
    "        print('\\t'+'-'*10)\n",
    "        retweets = np.array(retweets)\n",
    "        retweet_avg = np.average(retweets)\n",
    "        print('\\taverage retweets per tweet: {}'.format(retweet_avg))\n",
    "        \n",
    "        print('\\t'+'-'*10)\n",
    "        print('')"
   ]
  },
  {
   "cell_type": "code",
   "execution_count": null,
   "metadata": {},
   "outputs": [],
   "source": []
  }
 ],
 "metadata": {
  "kernelspec": {
   "display_name": "Python 3",
   "language": "python",
   "name": "python3"
  },
  "language_info": {
   "codemirror_mode": {
    "name": "ipython",
    "version": 3
   },
   "file_extension": ".py",
   "mimetype": "text/x-python",
   "name": "python",
   "nbconvert_exporter": "python",
   "pygments_lexer": "ipython3",
   "version": "3.5.4"
  }
 },
 "nbformat": 4,
 "nbformat_minor": 2
}
