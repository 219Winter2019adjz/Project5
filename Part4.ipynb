{
 "cells": [
  {
   "cell_type": "markdown",
   "metadata": {},
   "source": [
    "## Import"
   ]
  },
  {
   "cell_type": "code",
   "execution_count": 1,
   "metadata": {
    "collapsed": true
   },
   "outputs": [],
   "source": [
    "import numpy as np\n",
    "import pandas as pd\n",
    "import os\n",
    "import matplotlib.pyplot as plt\n",
    "import sys\n",
    "import json\n",
    "from datetime import datetime\n",
    "from tqdm import tqdm\n",
    "import pytz\n",
    "%matplotlib inline\n",
    "\n",
    "# Ignore warnings\n",
    "import warnings\n",
    "warnings.filterwarnings(\"ignore\")"
   ]
  },
  {
   "cell_type": "markdown",
   "metadata": {},
   "source": [
    "## Load Data"
   ]
  },
  {
   "cell_type": "code",
   "execution_count": 2,
   "metadata": {
    "collapsed": true
   },
   "outputs": [],
   "source": [
    "# Training and Testing directories\n",
    "training_dir = os.path.join(\"Datasets\", \"Training\")\n",
    "testing_dir = os.path.join(\"Datasets\", \"Testing\")\n",
    "if not os.path.isdir(training_dir):\n",
    "    raise Exception(\"ERROR: training dataset not found\")\n",
    "if not os.path.isdir(testing_dir):\n",
    "    raise Exception(\"ERROR: testing dataset not found\")"
   ]
  },
  {
   "cell_type": "code",
   "execution_count": 3,
   "metadata": {},
   "outputs": [
    {
     "name": "stdout",
     "output_type": "stream",
     "text": [
      "Datasets/Training/tweets_#gohawks.txt\n",
      "Datasets/Training/tweets_#gopatriots.txt\n",
      "Datasets/Training/tweets_#nfl.txt\n",
      "Datasets/Training/tweets_#patriots.txt\n",
      "Datasets/Training/tweets_#sb49.txt\n",
      "Datasets/Training/tweets_#superbowl.txt\n"
     ]
    }
   ],
   "source": [
    "# iterate over all hashtag files \n",
    "for root, dirs, files in os.walk(training_dir, topdown=False):\n",
    "    for file in files:\n",
    "        print(os.path.join(root, file))"
   ]
  },
  {
   "cell_type": "code",
   "execution_count": 4,
   "metadata": {},
   "outputs": [],
   "source": [
    "# Initialize dictionaries and Unix times for Feb 1, 8 am and Feb 1, 8 pm. \n",
    "# Dictionary keys: hashtag.\n",
    "# Dictionary values: [time of tweet (Unix), number of retweets for tweet, number of followers for tweeter]\n",
    "# Each row in dictionary value is an individual tweet.\n",
    "\n",
    "hashtag_dict_before = {}\n",
    "hashtag_dict_during = {}\n",
    "hashtag_dict_after = {}\n",
    "start_unix_time = 1422806400 # 8 am, Feb 1, PST\n",
    "end_unix_time = 1422849600 # 8 pm, Feb 1, PST\n",
    "pst_tz = pytz.timezone('America/Los_Angeles')\n"
   ]
  },
  {
   "cell_type": "code",
   "execution_count": 5,
   "metadata": {},
   "outputs": [
    {
     "name": "stdout",
     "output_type": "stream",
     "text": [
      "Parsing gohawks...\n",
      "Parsing gopatriots...\n",
      "Parsing nfl...\n",
      "Parsing patriots...\n",
      "Parsing sb49...\n",
      "Parsing superbowl...\n",
      "done\n"
     ]
    }
   ],
   "source": [
    "\"\"\" Parse files to get necessary data \"\"\"\n",
    "\n",
    "for root, dirs, files in os.walk(training_dir, topdown=False):\n",
    "    for file in files:\n",
    "        filename = os.path.splitext(file)[0].replace('tweets_#', '')\n",
    "        print('Parsing {}...'.format(filename))\n",
    "        \n",
    "        hashtag_dict_before[filename] = []\n",
    "        hashtag_dict_during[filename] = []\n",
    "        hashtag_dict_after[filename] = []\n",
    "        \n",
    "        # open the file and read all lines:\n",
    "        with open(os.path.join(root, file), \"r\", encoding=\"utf-8\") as hashtag:\n",
    "            # read line-by-line\n",
    "            for line in hashtag:\n",
    "                json_obj = json.loads(line)\n",
    "                \n",
    "                # get desired statistics\n",
    "                citation_date = json_obj['citation_date'] # Unix time\n",
    "                num_retweets = json_obj['metrics']['citations']['total'] # Number of retweets for this tweet\n",
    "                num_followers = json_obj['author']['followers'] # Number of followers for tweeter\n",
    "                \n",
    "                # Check when tweet was made and add it to corresponding dictionary\n",
    "                if citation_date < start_unix_time:\n",
    "                    hashtag_dict_before[filename].append([citation_date, num_retweets, num_followers])\n",
    "                elif citation_date > end_unix_time:\n",
    "                    hashtag_dict_after[filename].append([citation_date, num_retweets, num_followers])\n",
    "                else:\n",
    "                    hashtag_dict_during[filename].append([citation_date, num_retweets, num_followers])\n",
    "    print('done')"
   ]
  },
  {
   "cell_type": "markdown",
   "metadata": {},
   "source": [
    "## Organize Data\n",
    "\n",
    "##### Variables:\n",
    "<span>\n",
    "key = one of the hashtags <br \\> <br \\>\n",
    "</span>\n",
    "\n",
    "<span>\n",
    "data_hashtag_before[key] = data before 2/1 8am, split into 1-hour windows (separated by hashtag) <br \\>\n",
    "data_hashtag_during[key] = data between 2/1 8am and 8pm, split into 5-min windows (separated by hashtag) <br \\>\n",
    "data_hashtag_after[key] = data after 2/1 8pm, split into 1-hour windows (separated by hashtag) <br \\> <br \\>\n",
    "</span>\n",
    "\n",
    "<span>\n",
    "data_aggregate_before = data before 2/1 8am, split into 1-hour windows (all hashtags combined) <br \\>\n",
    "data_aggregate_during = data between 2/1 8am and 8pm, split into 5-min windows (all hashtags combined) <br \\>\n",
    "data_aggregate_after = data after 2/1 8pm, split into 1-hour windows (all hashtags combined) <br \\> <br \\>\n",
    "</span>\n",
    "\n",
    "<span>\n",
    "data_hashtag_all[key] = all data, split into 1-hour windows (separated by hashtag) <br \\> <br \\>\n",
    "</span>\n",
    "\n",
    "<span>\n",
    "data_all = all data, split into 1-hour windows (all hashtags combined) <br \\>\n",
    "</span>"
   ]
  },
  {
   "cell_type": "code",
   "execution_count": 6,
   "metadata": {},
   "outputs": [],
   "source": [
    "# Explicitly list hashtags. \n",
    "# Convert each value in dictionary to numpy arrays.\n",
    "\n",
    "hashtags = ['gohawks', 'gopatriots', 'nfl', 'patriots', 'sb49', 'superbowl']\n",
    "\n",
    "for key in hashtags:\n",
    "    hashtag_dict_before[key] = np.array(hashtag_dict_before[key])\n",
    "    hashtag_dict_during[key] = np.array(hashtag_dict_during[key])\n",
    "    hashtag_dict_after[key] = np.array(hashtag_dict_after[key])"
   ]
  },
  {
   "cell_type": "code",
   "execution_count": 7,
   "metadata": {},
   "outputs": [],
   "source": [
    "# Find how many time windows there are\n",
    "\n",
    "ftt = int(np.min([np.min(hashtag_dict_before[key][:,0]) for key in hashtags])) # first tweet time\n",
    "ltt = int(np.max([np.max(hashtag_dict_after[key][:,0]) for key in hashtags])) # last tweet time\n",
    "\n",
    "num_windows_before = int(np.max([((start_unix_time - ftt) // 3600) + 1 for key in hashtags]))\n",
    "num_windows_during = int(np.max([((end_unix_time - start_unix_time) // 3600 * 12) for key in hashtags]))\n",
    "num_windows_after = int(np.max([((ltt - end_unix_time) // 3600) + 1 for key in hashtags]))\n"
   ]
  },
  {
   "cell_type": "code",
   "execution_count": 8,
   "metadata": {},
   "outputs": [
    {
     "name": "stdout",
     "output_type": "stream",
     "text": [
      "gohawks\n",
      "gopatriots\n",
      "nfl\n",
      "patriots\n",
      "sb49\n",
      "superbowl\n",
      "done\n"
     ]
    }
   ],
   "source": [
    "\"\"\" Organize data into specific time periods:\n",
    "     before 2/1 8am with 1-hour windows, \n",
    "     between 2/1 8am and 2/1 8pm with 5-min windows,\n",
    "     and after 2/1 8pm with 1-hour windows \"\"\"\n",
    "\n",
    "# Initialize dictionary for each time frame.\n",
    "data_hashtag_before = {}\n",
    "data_hashtag_during = {}\n",
    "data_hashtag_after = {}\n",
    "\n",
    "# Iterate through each hashtag.\n",
    "for key in hashtags:\n",
    "    print(key)\n",
    "    \n",
    "    # Rename the dictionary value for readability\n",
    "    temp_before = hashtag_dict_before[key]\n",
    "    temp_during = hashtag_dict_during[key]\n",
    "    temp_after = hashtag_dict_after[key]\n",
    "    \n",
    "    data_hashtag_before[key] = np.zeros((num_windows_before, 5)) # Initialize array: rows = time window, columns = feature\n",
    "    num_followers_before = {} # Initialize dictionary to count # of followers for each tweet\n",
    "    \n",
    "    \n",
    "    \n",
    "    # Iterate through all elements before start time\n",
    "    for i in range(np.shape(temp_before)[0]):\n",
    "        # Get row number\n",
    "        item_before = int(num_windows_before - 1 - ((start_unix_time - temp_before[i,0] - 1) // 3600))\n",
    "        # Update first 3 elements (# of tweets, total # retweets, total # followers)\n",
    "        data_hashtag_before[key][item_before] += np.array([1, int(temp_before[i, 1]), int(temp_before[i, 2]), 0, 0])\n",
    "        # Get time of day (hour)\n",
    "        dt_obj_pst = datetime.fromtimestamp(temp_before[i,0], pst_tz)\n",
    "        data_hashtag_before[key][item_before][4] = int(datetime.strftime(dt_obj_pst, '%H'))\n",
    "        # Get number of followers\n",
    "        if item_before not in num_followers_before.keys():\n",
    "            num_followers_before[item_before] = []\n",
    "        num_followers_before[item_before].append(temp_before[i,2])\n",
    "    for i in num_followers_before.keys():\n",
    "        data_hashtag_before[key][i][3] = np.max(num_followers_before[i])\n",
    "        \n",
    "        \n",
    "    # Iterate through all elements during time\n",
    "    data_hashtag_during[key] = np.zeros((num_windows_during, 5))\n",
    "    num_followers_during = {}\n",
    "    for i in range(np.shape(temp_during)[0]):\n",
    "        item_during = int(((temp_during[i,0] - start_unix_time) * 12) // 3600)\n",
    "        data_hashtag_during[key][item_during] += np.array([1, int(temp_during[i, 1]), int(temp_during[i, 2]), 0, 0])\n",
    "        dt_obj_pst = datetime.fromtimestamp(temp_during[i,0], pst_tz)\n",
    "        data_hashtag_during[key][item_during][4] = int(datetime.strftime(dt_obj_pst, '%H'))\n",
    "        \n",
    "        if item_during not in num_followers_during.keys():\n",
    "            num_followers_during[item_during] = []\n",
    "        num_followers_during[item_during].append(temp_during[i,2])\n",
    "    for i in num_followers_during.keys():\n",
    "        data_hashtag_during[key][i][3] = np.max(num_followers_during[i])\n",
    "        \n",
    "    # Iterate through all elements after end time\n",
    "    data_hashtag_after[key] = np.zeros((num_windows_after, 5))\n",
    "    num_followers_after = {}\n",
    "    for i in range(np.shape(temp_after)[0]):\n",
    "        item_after = int((temp_after[i,0] - end_unix_time) // 3600)\n",
    "        data_hashtag_after[key][item_after] += np.array([1, int(temp_after[i, 1]), int(temp_after[i, 2]), 0, 0])\n",
    "        dt_obj_pst = datetime.fromtimestamp(temp_after[i,0], pst_tz)\n",
    "        data_hashtag_after[key][item_after][4] = int(datetime.strftime(dt_obj_pst, '%H'))\n",
    "        \n",
    "        if item_after not in num_followers_after.keys():\n",
    "            num_followers_after[item_after] = []\n",
    "        num_followers_after[item_after].append(temp_after[i,2])\n",
    "    for i in num_followers_after.keys():\n",
    "        data_hashtag_after[key][i][3] = np.max(num_followers_after[i])\n",
    "        \n",
    "print('done')"
   ]
  },
  {
   "cell_type": "code",
   "execution_count": 13,
   "metadata": {},
   "outputs": [],
   "source": [
    "\"\"\" Aggregate data within each time period by combining all hashtags. \"\"\"\n",
    "\n",
    "# Initialize aggregated data variables\n",
    "data_aggregate_before = np.zeros([num_windows_before, 5])\n",
    "data_aggregate_during = np.zeros([num_windows_during, 5])\n",
    "data_aggregate_after = np.zeros([num_windows_after, 5])\n",
    "\n",
    "# Sum the # of tweets, total # of retweets, and # of followers\n",
    "for key in hashtags:\n",
    "    data_aggregate_before[:,0:3] += data_hashtag_before[key][:,0:3]\n",
    "    data_aggregate_during[:,0:3] += data_hashtag_during[key][:,0:3]\n",
    "    data_aggregate_after[:,0:3] += data_hashtag_after[key][:,0:3]\n",
    "# Find the max # of followers for each\n",
    "data_aggregate_before[:,3] = np.amax([data_hashtag_before[key][:,3] for key in hashtags], axis=0)\n",
    "data_aggregate_during[:,3] = np.amax([data_hashtag_during[key][:,3] for key in hashtags], axis=0)\n",
    "data_aggregate_after[:,3] = np.amax([data_hashtag_after[key][:,3] for key in hashtags], axis=0)\n",
    "\n",
    "# Copy over the same time frames\n",
    "data_aggregate_before[:,4] = data_hashtag_before['superbowl'][:,4]\n",
    "data_aggregate_during[:,4] = data_hashtag_during['superbowl'][:,4]\n",
    "data_aggregate_after[:,4] = data_hashtag_after['superbowl'][:,4]"
   ]
  },
  {
   "cell_type": "code",
   "execution_count": 14,
   "metadata": {},
   "outputs": [],
   "source": [
    "\"\"\" Get data for the whole time frame with 1-hour windows, separated by hashtag \"\"\"\n",
    "\n",
    "# Initialize dictionary to store data.\n",
    "# Key: hashtag\n",
    "# Value: data separated by 1-hour time windows\n",
    "data_hashtag_all = {}\n",
    "\n",
    "for key in hashtags: # Iterate through all hashtags\n",
    "    temp_during = np.zeros([12, 5]) # Initialize array to store data in the middle time period\n",
    "    # Combine data in the middle time period\n",
    "    for i in range(np.shape(data_hashtag_during[key])[0]):\n",
    "        hour = int(data_hashtag_during[key][i,4] - 8)\n",
    "        temp_during[hour, :3] += data_hashtag_during[key][i, :3]\n",
    "        if not i % 12:\n",
    "            temp_during[hour, 3] = np.max(data_hashtag_during[key][i:(i+12), 3])\n",
    "            temp_during[hour, 4] = data_hashtag_during[key][i,4]\n",
    "    data_hashtag_all[key] = np.vstack((data_hashtag_before[key], temp_during, data_hashtag_after[key]))"
   ]
  },
  {
   "cell_type": "code",
   "execution_count": 15,
   "metadata": {},
   "outputs": [],
   "source": [
    "\"\"\" Combine data for the whole time frame from all hashtags \"\"\"\n",
    "\n",
    "data_all = np.zeros([587, 5])\n",
    "for key in hashtags:\n",
    "    data_all += data_hashtag_all[key]"
   ]
  },
  {
   "cell_type": "code",
   "execution_count": null,
   "metadata": {},
   "outputs": [],
   "source": []
  },
  {
   "cell_type": "code",
   "execution_count": null,
   "metadata": {
    "collapsed": true
   },
   "outputs": [],
   "source": []
  },
  {
   "cell_type": "markdown",
   "metadata": {},
   "source": [
    "### Neural Network"
   ]
  },
  {
   "cell_type": "code",
   "execution_count": 16,
   "metadata": {},
   "outputs": [],
   "source": [
    "from sklearn.neural_network import MLPRegressor\n",
    "from sklearn.metrics import mean_squared_error\n",
    "from sklearn.model_selection import KFold\n",
    "from sklearn.model_selection import train_test_split"
   ]
  },
  {
   "cell_type": "code",
   "execution_count": 17,
   "metadata": {},
   "outputs": [],
   "source": [
    "# Define layer sizes.\n",
    "layer_sizes = [(50, 50), (100, 100), (100, 100, 100), (100, 100, 100, 100), 10*(50,), 10*(100,)]"
   ]
  },
  {
   "cell_type": "code",
   "execution_count": 18,
   "metadata": {
    "collapsed": true
   },
   "outputs": [],
   "source": [
    "# Function to get MSE for a given neural network model.\n",
    "\n",
    "def analyze_nn(nn, X, y):\n",
    "    mses_per_fold = []\n",
    "    mses_per_fold_train = []\n",
    "    kf = KFold(10)\n",
    "    for trainset, testset in kf.split(X):\n",
    "        X_train, y_train = X[trainset], y[trainset]\n",
    "        X_test, y_test = X[testset], y[testset]\n",
    "        nn.fit(X_train, y_train)\n",
    "        predicted = nn.predict(X_test)\n",
    "        mses_per_fold.append(mean_squared_error(y_test, predicted))\n",
    "        mses_per_fold_train.append(mean_squared_error(y_train, nn.predict(X_train)))\n",
    "    #     print(mean_squared_error(y_test, predicted))\n",
    "    avg_mse = np.mean(mses_per_fold)\n",
    "    avg_mse_train = np.mean(mses_per_fold_train)\n",
    "    print('Layer size {} MSE:\\n   val = {} \\n train = {}'.format(size, np.around(avg_mse, 2), np.around(avg_mse_train, 2)))\n",
    "    \n",
    "    return avg_mse, avg_mse_train"
   ]
  },
  {
   "cell_type": "markdown",
   "metadata": {},
   "source": [
    "#### No preprocessing"
   ]
  },
  {
   "cell_type": "code",
   "execution_count": 15,
   "metadata": {},
   "outputs": [
    {
     "name": "stdout",
     "output_type": "stream",
     "text": [
      "X shape: (586, 5)\n",
      "y shape: (586,)\n",
      "Layer size (50, 50) MSE:\n",
      "   val = 133015103014.18 \n",
      " train = 2207226555.42\n",
      "Layer size (100, 100) MSE:\n",
      "   val = 15844716815.04 \n",
      " train = 30054698324.78\n",
      "Layer size (100, 100, 100) MSE:\n",
      "   val = 14112975642.27 \n",
      " train = 2126070891775.56\n",
      "Layer size (100, 100, 100, 100) MSE:\n",
      "   val = 2821068693.02 \n",
      " train = 23485684975.48\n",
      "Layer size (50, 50, 50, 50, 50, 50, 50, 50, 50, 50) MSE:\n",
      "   val = 684214921.64 \n",
      " train = 2484996332.98\n",
      "Layer size (100, 100, 100, 100, 100, 100, 100, 100, 100, 100) MSE:\n",
      "   val = 650577997.55 \n",
      " train = 2851214279.48\n"
     ]
    }
   ],
   "source": [
    "# Analyze tweets before start time.\n",
    "\n",
    "# Define train data and targets\n",
    "y = data_all[1:,0] # Number of tweets (except first)\n",
    "X = np.delete(data_all, -1, 0) # Delete last row\n",
    "\n",
    "# X = X_before\n",
    "# y = y_before\n",
    "\n",
    "print('X shape:', X.shape)\n",
    "print('y shape:', y.shape)\n",
    "\n",
    "mses = []\n",
    "mses_train = []\n",
    "for size in layer_sizes:\n",
    "    nn = MLPRegressor(hidden_layer_sizes=size, activation='relu', solver='adam', alpha=0.001)\n",
    "\n",
    "    avg_mse, avg_mse_train = analyze_nn(nn, X, y)\n",
    "    mses.append(avg_mse)\n",
    "    mses_train.append(avg_mse_train)"
   ]
  },
  {
   "cell_type": "code",
   "execution_count": 16,
   "metadata": {},
   "outputs": [
    {
     "name": "stdout",
     "output_type": "stream",
     "text": [
      "[364712.35654167 125875.79916346 118798.04561636  53113.73356318\n",
      "  26157.50220572  25506.43051367]\n"
     ]
    }
   ],
   "source": [
    "print(np.sqrt(mses))"
   ]
  },
  {
   "cell_type": "markdown",
   "metadata": {},
   "source": [
    "#### Standard scaler preprocessing"
   ]
  },
  {
   "cell_type": "code",
   "execution_count": 19,
   "metadata": {
    "collapsed": true
   },
   "outputs": [],
   "source": [
    "from sklearn.preprocessing import StandardScaler"
   ]
  },
  {
   "cell_type": "code",
   "execution_count": 20,
   "metadata": {},
   "outputs": [],
   "source": [
    "scaler = StandardScaler()"
   ]
  },
  {
   "cell_type": "code",
   "execution_count": 19,
   "metadata": {},
   "outputs": [
    {
     "name": "stdout",
     "output_type": "stream",
     "text": [
      "X shape: (586, 5)\n",
      "y shape: (586,)\n",
      "Layer size (50, 50) MSE:\n",
      "   val = 779705827.18 \n",
      " train = 643736487.08\n",
      "Layer size (100, 100) MSE:\n",
      "   val = 673236649.94 \n",
      " train = 373934473.11\n",
      "Layer size (100, 100, 100) MSE:\n",
      "   val = 258232605.09 \n",
      " train = 229071346.09\n",
      "Layer size (100, 100, 100, 100) MSE:\n",
      "   val = 359969571.59 \n",
      " train = 191698219.79\n",
      "Layer size (50, 50, 50, 50, 50, 50, 50, 50, 50, 50) MSE:\n",
      "   val = 687035152.05 \n",
      " train = 115044266.39\n",
      "Layer size (100, 100, 100, 100, 100, 100, 100, 100, 100, 100) MSE:\n",
      "   val = 602909849.65 \n",
      " train = 87523650.19\n"
     ]
    }
   ],
   "source": [
    "y = data_all[1:,0] # Number of tweets (except first)\n",
    "X = np.delete(data_all, -1, 0) # Delete last row\n",
    "\n",
    "X = scaler.fit_transform(X) # Transform data\n",
    "y = y\n",
    "\n",
    "print('X shape:', X.shape)\n",
    "print('y shape:', y.shape)\n",
    "\n",
    "mses = []\n",
    "mses_train = []\n",
    "for size in layer_sizes:\n",
    "    nn = MLPRegressor(hidden_layer_sizes=size, activation='relu', solver='adam', alpha=0.001)\n",
    "\n",
    "    avg_mse, avg_mse_train = analyze_nn(nn, X, y)\n",
    "    mses.append(avg_mse)\n",
    "    mses_train.append(avg_mse_train)"
   ]
  },
  {
   "cell_type": "code",
   "execution_count": 20,
   "metadata": {},
   "outputs": [
    {
     "name": "stdout",
     "output_type": "stream",
     "text": [
      "[27923.21305265 25946.80423359 16069.61745298 18972.86408511\n",
      " 26211.35540269 24554.22264404]\n"
     ]
    }
   ],
   "source": [
    "print(np.sqrt(mses))"
   ]
  },
  {
   "cell_type": "code",
   "execution_count": 23,
   "metadata": {},
   "outputs": [
    {
     "name": "stdout",
     "output_type": "stream",
     "text": [
      "X shape: (586, 5)\n",
      "y shape: (586,)\n",
      "Layer size (50, 50, 50) MSE:\n",
      "   val = 493703899.18 \n",
      " train = 244183617.51\n",
      "Layer size (100, 100, 100) MSE:\n",
      "   val = 261863410.38 \n",
      " train = 229693258.82\n",
      "Layer size (150, 150, 150) MSE:\n",
      "   val = 270112436.37 \n",
      " train = 220036898.54\n",
      "Layer size (200, 200, 200) MSE:\n",
      "   val = 285625289.79 \n",
      " train = 207547415.99\n"
     ]
    }
   ],
   "source": [
    "y = data_all[1:,0] # Number of tweets (except first)\n",
    "X = np.delete(data_all, -1, 0) # Delete last row\n",
    "\n",
    "X = scaler.fit_transform(X) # Transform data\n",
    "y = y\n",
    "\n",
    "layer_sizes = [(50,50,50), (100,100,100), (150,150,150), (200,200,200)]\n",
    "\n",
    "print('X shape:', X.shape)\n",
    "print('y shape:', y.shape)\n",
    "\n",
    "mses = []\n",
    "mses_train = []\n",
    "for size in layer_sizes:\n",
    "    nn = MLPRegressor(hidden_layer_sizes=size, activation='relu', solver='adam', alpha=0.001)\n",
    "\n",
    "    avg_mse, avg_mse_train = analyze_nn(nn, X, y)\n",
    "    mses.append(avg_mse)\n",
    "    mses_train.append(avg_mse_train)"
   ]
  },
  {
   "cell_type": "code",
   "execution_count": 24,
   "metadata": {},
   "outputs": [
    {
     "name": "stdout",
     "output_type": "stream",
     "text": [
      "[22219.44866948 16182.19423887 16435.09769898 16900.4523546 ]\n"
     ]
    }
   ],
   "source": [
    "print(np.sqrt(mses))"
   ]
  },
  {
   "cell_type": "markdown",
   "metadata": {},
   "source": [
    "#### Grid search"
   ]
  },
  {
   "cell_type": "code",
   "execution_count": 26,
   "metadata": {
    "collapsed": true
   },
   "outputs": [],
   "source": [
    "from sklearn.model_selection import GridSearchCV"
   ]
  },
  {
   "cell_type": "code",
   "execution_count": 27,
   "metadata": {},
   "outputs": [
    {
     "name": "stderr",
     "output_type": "stream",
     "text": [
      "/Users/dmwang626/anaconda/lib/python3.5/site-packages/sklearn/model_selection/_search.py:841: DeprecationWarning: The default of the `iid` parameter will change from True to False in version 0.22 and will be removed in 0.24. This will change numeric results when test-set sizes are unequal.\n",
      "  DeprecationWarning)\n"
     ]
    },
    {
     "data": {
      "text/plain": [
       "GridSearchCV(cv=10, error_score='raise-deprecating',\n",
       "       estimator=MLPRegressor(activation='relu', alpha=0.001, batch_size='auto', beta_1=0.9,\n",
       "       beta_2=0.999, early_stopping=False, epsilon=1e-08,\n",
       "       hidden_layer_sizes=(100,), learning_rate='constant',\n",
       "       learning_rate_init=0.001, max_iter=200, momentum=0.9,\n",
       "       n_iter_no_change=10, nesterovs_momentum=True, power_t=0.5,\n",
       "       random_state=None, shuffle=True, solver='adam', tol=0.0001,\n",
       "       validation_fraction=0.1, verbose=False, warm_start=False),\n",
       "       fit_params=None, iid='warn', n_jobs=None,\n",
       "       param_grid={'hidden_layer_sizes': [(50,), (100,), (150,), (200,), (250,), (300,), (50, 50), (100, 100), (150, 150), (200, 200), (250, 250), (300, 300), (50, 50, 50), (100, 100, 100), (150, 150, 150), (200, 200, 200), (250, 250, 250), (300, 300, 300), (50, 50, 50, 50), (100, 100, 100, 100), (150, 150, 150, 150), (200, 200, 200, 200), (250, 250, 250, 250), (300, 300, 300, 300)]},\n",
       "       pre_dispatch='2*n_jobs', refit=True, return_train_score='warn',\n",
       "       scoring='neg_mean_squared_error', verbose=0)"
      ]
     },
     "execution_count": 27,
     "metadata": {},
     "output_type": "execute_result"
    }
   ],
   "source": [
    "y_before = data_aggregate_before[1:,0] # Number of tweets (except first)\n",
    "X_before = np.delete(data_aggregate_before, -1, 0) # Delete last row\n",
    "\n",
    "X = scaler.fit_transform(X_before) # Transform data\n",
    "y = y_before\n",
    "\n",
    "param_grid = {\n",
    "    'hidden_layer_sizes': [(50,), (100,), (150,), (200,), (250,), (300,),\n",
    "                           2*(50,), 2*(100,), 2*(150,), 2*(200,), 2*(250,), 2*(300,), \n",
    "                           3*(50,), 3*(100,), 3*(150,), 3*(200,), 3*(250,), 3*(300,),\n",
    "                           4*(50,), 4*(100,), 4*(150,), 4*(200,), 4*(250,), 4*(300,)]\n",
    "}\n",
    "\n",
    "nn = MLPRegressor(activation='relu', solver='adam', alpha=0.001)\n",
    "clf_before = GridSearchCV(nn, param_grid, cv=10, scoring='neg_mean_squared_error')\n",
    "clf_before.fit(X, y)"
   ]
  },
  {
   "cell_type": "code",
   "execution_count": 28,
   "metadata": {
    "scrolled": false
   },
   "outputs": [
    {
     "name": "stdout",
     "output_type": "stream",
     "text": [
      "{'hidden_layer_sizes': (100, 100, 100)}\n",
      "-261706917.5742354\n"
     ]
    }
   ],
   "source": [
    "print(clf.best_params_)\n",
    "print(clf.best_score_)"
   ]
  },
  {
   "cell_type": "code",
   "execution_count": 29,
   "metadata": {},
   "outputs": [
    {
     "name": "stderr",
     "output_type": "stream",
     "text": [
      "/Users/dmwang626/anaconda/lib/python3.5/site-packages/sklearn/model_selection/_search.py:841: DeprecationWarning: The default of the `iid` parameter will change from True to False in version 0.22 and will be removed in 0.24. This will change numeric results when test-set sizes are unequal.\n",
      "  DeprecationWarning)\n"
     ]
    },
    {
     "data": {
      "text/plain": [
       "GridSearchCV(cv=10, error_score='raise-deprecating',\n",
       "       estimator=MLPRegressor(activation='relu', alpha=0.001, batch_size='auto', beta_1=0.9,\n",
       "       beta_2=0.999, early_stopping=False, epsilon=1e-08,\n",
       "       hidden_layer_sizes=(100,), learning_rate='constant',\n",
       "       learning_rate_init=0.001, max_iter=200, momentum=0.9,\n",
       "       n_iter_no_change=10, nesterovs_momentum=True, power_t=0.5,\n",
       "       random_state=None, shuffle=True, solver='adam', tol=0.0001,\n",
       "       validation_fraction=0.1, verbose=False, warm_start=False),\n",
       "       fit_params=None, iid='warn', n_jobs=None,\n",
       "       param_grid={'hidden_layer_sizes': [(50,), (100,), (150,), (200,), (250,), (300,), (50, 50), (100, 100), (150, 150), (200, 200), (250, 250), (300, 300), (50, 50, 50), (100, 100, 100), (150, 150, 150), (200, 200, 200), (250, 250, 250), (300, 300, 300), (50, 50, 50, 50), (100, 100, 100, 100), (150, 150, 150, 150), (200, 200, 200, 200), (250, 250, 250, 250), (300, 300, 300, 300)]},\n",
       "       pre_dispatch='2*n_jobs', refit=True, return_train_score='warn',\n",
       "       scoring='neg_mean_squared_error', verbose=0)"
      ]
     },
     "execution_count": 29,
     "metadata": {},
     "output_type": "execute_result"
    }
   ],
   "source": [
    "y_during = data_aggregate_during[1:,0] # Number of tweets (except first)\n",
    "X_during = np.delete(data_aggregate_during, -1, 0) # Delete last row\n",
    "\n",
    "X = scaler.fit_transform(X_during) # Transform data\n",
    "y = y_during\n",
    "\n",
    "param_grid = {\n",
    "    'hidden_layer_sizes': [(50,), (100,), (150,), (200,), (250,), (300,),\n",
    "                           2*(50,), 2*(100,), 2*(150,), 2*(200,), 2*(250,), 2*(300,), \n",
    "                           3*(50,), 3*(100,), 3*(150,), 3*(200,), 3*(250,), 3*(300,),\n",
    "                           4*(50,), 4*(100,), 4*(150,), 4*(200,), 4*(250,), 4*(300,)]\n",
    "}\n",
    "\n",
    "nn = MLPRegressor(activation='relu', solver='adam', alpha=0.001)\n",
    "clf_during = GridSearchCV(nn, param_grid, cv=10, scoring='neg_mean_squared_error')\n",
    "clf_during.fit(X, y)"
   ]
  },
  {
   "cell_type": "code",
   "execution_count": 30,
   "metadata": {},
   "outputs": [
    {
     "name": "stdout",
     "output_type": "stream",
     "text": [
      "{'hidden_layer_sizes': (300, 300, 300, 300)}\n",
      "-25750129.554445647\n"
     ]
    }
   ],
   "source": [
    "print(clf_during.best_params_)\n",
    "print(clf_during.best_score_)"
   ]
  },
  {
   "cell_type": "code",
   "execution_count": 31,
   "metadata": {},
   "outputs": [
    {
     "name": "stderr",
     "output_type": "stream",
     "text": [
      "/Users/dmwang626/anaconda/lib/python3.5/site-packages/sklearn/model_selection/_search.py:841: DeprecationWarning: The default of the `iid` parameter will change from True to False in version 0.22 and will be removed in 0.24. This will change numeric results when test-set sizes are unequal.\n",
      "  DeprecationWarning)\n"
     ]
    },
    {
     "data": {
      "text/plain": [
       "GridSearchCV(cv=10, error_score='raise-deprecating',\n",
       "       estimator=MLPRegressor(activation='relu', alpha=0.001, batch_size='auto', beta_1=0.9,\n",
       "       beta_2=0.999, early_stopping=False, epsilon=1e-08,\n",
       "       hidden_layer_sizes=(100,), learning_rate='constant',\n",
       "       learning_rate_init=0.001, max_iter=200, momentum=0.9,\n",
       "       n_iter_no_change=10, nesterovs_momentum=True, power_t=0.5,\n",
       "       random_state=None, shuffle=True, solver='adam', tol=0.0001,\n",
       "       validation_fraction=0.1, verbose=False, warm_start=False),\n",
       "       fit_params=None, iid='warn', n_jobs=None,\n",
       "       param_grid={'hidden_layer_sizes': [(50,), (100,), (150,), (200,), (250,), (300,), (50, 50), (100, 100), (150, 150), (200, 200), (250, 250), (300, 300), (50, 50, 50), (100, 100, 100), (150, 150, 150), (200, 200, 200), (250, 250, 250), (300, 300, 300), (50, 50, 50, 50), (100, 100, 100, 100), (150, 150, 150, 150), (200, 200, 200, 200), (250, 250, 250, 250), (300, 300, 300, 300)]},\n",
       "       pre_dispatch='2*n_jobs', refit=True, return_train_score='warn',\n",
       "       scoring='neg_mean_squared_error', verbose=0)"
      ]
     },
     "execution_count": 31,
     "metadata": {},
     "output_type": "execute_result"
    }
   ],
   "source": [
    "y_after = data_aggregate_after[1:,0] # Number of tweets (except first)\n",
    "X_after = np.delete(data_aggregate_after, -1, 0) # Delete last row\n",
    "\n",
    "X = scaler.fit_transform(X_after) # Transform data\n",
    "y = y_after\n",
    "\n",
    "param_grid = {\n",
    "    'hidden_layer_sizes': [(50,), (100,), (150,), (200,), (250,), (300,),\n",
    "                           2*(50,), 2*(100,), 2*(150,), 2*(200,), 2*(250,), 2*(300,), \n",
    "                           3*(50,), 3*(100,), 3*(150,), 3*(200,), 3*(250,), 3*(300,),\n",
    "                           4*(50,), 4*(100,), 4*(150,), 4*(200,), 4*(250,), 4*(300,)]\n",
    "}\n",
    "\n",
    "nn = MLPRegressor(activation='relu', solver='adam', alpha=0.001)\n",
    "clf_after = GridSearchCV(nn, param_grid, cv=10, scoring='neg_mean_squared_error')\n",
    "clf_after.fit(X, y)"
   ]
  },
  {
   "cell_type": "code",
   "execution_count": 32,
   "metadata": {},
   "outputs": [
    {
     "name": "stdout",
     "output_type": "stream",
     "text": [
      "{'hidden_layer_sizes': (300, 300, 300, 300)}\n",
      "-1104433.9605698008\n"
     ]
    }
   ],
   "source": [
    "print(clf_after.best_params_)\n",
    "print(clf_after.best_score_)"
   ]
  },
  {
   "cell_type": "code",
   "execution_count": null,
   "metadata": {
    "collapsed": true
   },
   "outputs": [],
   "source": []
  },
  {
   "cell_type": "code",
   "execution_count": null,
   "metadata": {
    "collapsed": true
   },
   "outputs": [],
   "source": []
  },
  {
   "cell_type": "code",
   "execution_count": null,
   "metadata": {
    "collapsed": true
   },
   "outputs": [],
   "source": []
  }
 ],
 "metadata": {
  "anaconda-cloud": {},
  "kernelspec": {
   "display_name": "Python 3",
   "language": "python",
   "name": "python3"
  },
  "language_info": {
   "codemirror_mode": {
    "name": "ipython",
    "version": 3
   },
   "file_extension": ".py",
   "mimetype": "text/x-python",
   "name": "python",
   "nbconvert_exporter": "python",
   "pygments_lexer": "ipython3",
   "version": "3.5.4"
  }
 },
 "nbformat": 4,
 "nbformat_minor": 1
}
