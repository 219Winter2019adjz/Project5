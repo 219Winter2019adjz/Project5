{
  "nbformat": 4,
  "nbformat_minor": 0,
  "metadata": {
    "colab": {
      "name": "Copy of Part 6, Fan Base Prediction.ipynb",
      "version": "0.3.2",
      "provenance": [],
      "collapsed_sections": [],
      "include_colab_link": true
    },
    "kernelspec": {
      "name": "python3",
      "display_name": "Python 3"
    },
    "accelerator": "GPU"
  },
  "cells": [
    {
      "cell_type": "markdown",
      "metadata": {
        "id": "view-in-github",
        "colab_type": "text"
      },
      "source": [
        "<a href=\"https://colab.research.google.com/github/thecyclone/219_Project5/blob/master/Copy_of_Part_6%2C_Fan_Base_Prediction.ipynb\" target=\"_parent\"><img src=\"https://colab.research.google.com/assets/colab-badge.svg\" alt=\"Open In Colab\"/></a>"
      ]
    },
    {
      "metadata": {
        "id": "QJ9P1C1XmHW3",
        "colab_type": "code",
        "outputId": "b13efa3c-3c3f-4c09-92f2-ba7a50e2accf",
        "colab": {
          "base_uri": "https://localhost:8080/",
          "height": 122
        }
      },
      "cell_type": "code",
      "source": [
        "########################################################\n",
        "\n",
        "# If running with Google Colab\n",
        "\n",
        "from google.colab import drive\n",
        "drive.mount('/content/gdrive')"
      ],
      "execution_count": 2,
      "outputs": [
        {
          "output_type": "stream",
          "text": [
            "Go to this URL in a browser: https://accounts.google.com/o/oauth2/auth?client_id=947318989803-6bn6qk8qdgf4n4g3pfee6491hc0brc4i.apps.googleusercontent.com&redirect_uri=urn%3Aietf%3Awg%3Aoauth%3A2.0%3Aoob&scope=email%20https%3A%2F%2Fwww.googleapis.com%2Fauth%2Fdocs.test%20https%3A%2F%2Fwww.googleapis.com%2Fauth%2Fdrive%20https%3A%2F%2Fwww.googleapis.com%2Fauth%2Fdrive.photos.readonly%20https%3A%2F%2Fwww.googleapis.com%2Fauth%2Fpeopleapi.readonly&response_type=code\n",
            "\n",
            "Enter your authorization code:\n",
            "··········\n",
            "Mounted at /content/gdrive\n"
          ],
          "name": "stdout"
        }
      ]
    },
    {
      "metadata": {
        "id": "pMYNW7bIm_kz",
        "colab_type": "code",
        "outputId": "179e423f-25b7-43ac-ace5-784285d6d1f6",
        "colab": {
          "base_uri": "https://localhost:8080/",
          "height": 68
        }
      },
      "cell_type": "code",
      "source": [
        "########################################################\n",
        "\n",
        "# If running with Google Colab\n",
        "\n",
        "!ls \"/content/gdrive/My Drive/Datasets/Testing\""
      ],
      "execution_count": 34,
      "outputs": [
        {
          "output_type": "stream",
          "text": [
            "sample0_period1.txt  sample1_period1.txt  sample2_period1.txt\n",
            "sample0_period2.txt  sample1_period2.txt  sample2_period2.txt\n",
            "sample0_period3.txt  sample1_period3.txt  sample2_period3.txt\n"
          ],
          "name": "stdout"
        }
      ]
    },
    {
      "metadata": {
        "id": "QwmoccnlmFeR",
        "colab_type": "code",
        "colab": {}
      },
      "cell_type": "code",
      "source": [
        "# import numpy as np\n",
        "# import pandas as pd\n",
        "# import os\n",
        "# import matplotlib.pyplot as plt\n",
        "# import sys\n",
        "# import json\n",
        "# from datetime import datetime\n",
        "# from tqdm import tqdm\n",
        "# %matplotlib inline\n",
        "\n",
        "# import random\n",
        "# np.random.seed(42)\n",
        "# random.seed(42)\n",
        "\n",
        "# # Ignore warnings\n",
        "# import warnings\n",
        "# warnings.filterwarnings(\"ignore\")\n",
        "\n",
        "# # training and Testing directories\n",
        "# training_dir = os.path.join(\"Datasets\", \"Training\")\n",
        "# testing_dir = os.path.join(\"Datasets\", \"Testing\")\n",
        "# if not os.path.isdir(training_dir):\n",
        "#     raise Exception(\"ERROR: training dataset not found\")\n",
        "# if not os.path.isdir(testing_dir):\n",
        "#     raise Exception(\"ERROR: testing dataset not found\")"
      ],
      "execution_count": 0,
      "outputs": []
    },
    {
      "metadata": {
        "id": "w4pJUGEDo8pV",
        "colab_type": "code",
        "colab": {}
      },
      "cell_type": "code",
      "source": [
        "########################################################\n",
        "\n",
        "# If running with Google Colab\n",
        "\n",
        "import numpy as np\n",
        "import pandas as pd\n",
        "import os\n",
        "import matplotlib.pyplot as plt\n",
        "import sys\n",
        "import json\n",
        "from datetime import datetime\n",
        "from tqdm import tqdm\n",
        "%matplotlib inline\n",
        "\n",
        "import random\n",
        "np.random.seed(42)\n",
        "random.seed(42)\n",
        "\n",
        "# Ignore warnings\n",
        "import warnings\n",
        "warnings.filterwarnings(\"ignore\")\n",
        "\n",
        "from pathlib import Path\n",
        "\n",
        "training_dir = Path(\"/content/gdrive/My Drive/Datasets/Training\")\n",
        "testing_dir = Path(\"/content/gdrive/My Drive/Datasets/Testing\")"
      ],
      "execution_count": 0,
      "outputs": []
    },
    {
      "metadata": {
        "id": "gIcYM82cmFeY",
        "colab_type": "text"
      },
      "cell_type": "markdown",
      "source": [
        "## Establish Locations"
      ]
    },
    {
      "metadata": {
        "id": "h2HDYiPKmFea",
        "colab_type": "code",
        "outputId": "dd47ff17-185a-4de6-b782-6c1c51bec698",
        "colab": {
          "base_uri": "https://localhost:8080/",
          "height": 119
        }
      },
      "cell_type": "code",
      "source": [
        "# iterate over all hashtag files \n",
        "for root, dirs, files in os.walk(training_dir, topdown=False):\n",
        "    for file in files:\n",
        "        print(os.path.join(root, file))"
      ],
      "execution_count": 37,
      "outputs": [
        {
          "output_type": "stream",
          "text": [
            "/content/gdrive/My Drive/Datasets/Training/tweets_#superbowl.txt\n",
            "/content/gdrive/My Drive/Datasets/Training/tweets_#sb49.txt\n",
            "/content/gdrive/My Drive/Datasets/Training/tweets_#patriots.txt\n",
            "/content/gdrive/My Drive/Datasets/Training/tweets_#gohawks.txt\n",
            "/content/gdrive/My Drive/Datasets/Training/tweets_#gopatriots.txt\n",
            "/content/gdrive/My Drive/Datasets/Training/tweets_#nfl.txt\n"
          ],
          "name": "stdout"
        }
      ]
    },
    {
      "metadata": {
        "id": "jUswnDZVmFei",
        "colab_type": "code",
        "colab": {}
      },
      "cell_type": "code",
      "source": [
        "# Look at the gopatriots dataset for testing\n",
        "# change to only_superbowl = ['superbowl'] for actual running\n",
        "\n",
        "only_superbowl = ['superbowl']\n",
        "only_gopatriots = ['gopatriots'] "
      ],
      "execution_count": 0,
      "outputs": []
    },
    {
      "metadata": {
        "id": "ZhAGlAHDmFel",
        "colab_type": "code",
        "outputId": "5a0c581d-27dc-4e16-afc1-561ff9c6f219",
        "colab": {
          "base_uri": "https://localhost:8080/",
          "height": 136
        }
      },
      "cell_type": "code",
      "source": [
        "# Testing with Full Size\n",
        "locations = []\n",
        "\n",
        "# iterate over all hashtag files \n",
        "for root, dirs, files in os.walk(training_dir, topdown=False):\n",
        "    for file in files:\n",
        "        filename = os.path.splitext(file)[0].replace('tweets_#', '')\n",
        "          \n",
        "        # CHANGE TO only_superbowl for final submission\n",
        "        # Only Look at the gopatriots Data file for testing\n",
        "        if not filename in only_superbowl:\n",
        "#         if not filename in only_gopatriots:\n",
        "            continue\n",
        "        \n",
        "        print('Parsing {}...'.format(filename))\n",
        "        \n",
        "        # only extracting specific features from the tweet json objects\n",
        "        citation_dates = []\n",
        "        \n",
        "        # open the file and read all lines:\n",
        "        with open(os.path.join(root, file), \"r\", encoding=\"utf-8\") as hashtag:\n",
        "            # read line-by-line\n",
        "            for line in hashtag:\n",
        "                json_obj = json.loads(line)\n",
        "                \n",
        "                # get citation date\n",
        "                citation_date = json_obj['citation_date']\n",
        "                citation_dates.append(citation_date)\n",
        "                \n",
        "                # get locations \n",
        "                location = json_obj['tweet']['user']['location']\n",
        "                locations.append(location)\n",
        "        \n",
        "        # processing citation feature\n",
        "        print('\\t'+'-'*10)\n",
        "        citation_dates = np.array(citation_dates)\n",
        "        print('\\tnumber of tweets in period: {}'.format(len(citation_dates)))\n",
        "        min_date = np.min(citation_dates)\n",
        "        max_date = np.max(citation_dates)\n",
        "\n",
        "        # processing all locations\n",
        "        print('\\t'+'-'*10)\n",
        "        print('\\tnumber of locations in {} dataset: {}'.format(filename, len(locations)))\n",
        "        \n",
        "        print('\\t'+'-'*10)\n",
        "        print('')"
      ],
      "execution_count": 39,
      "outputs": [
        {
          "output_type": "stream",
          "text": [
            "Parsing superbowl...\n",
            "\t----------\n",
            "\tnumber of tweets in period: 1213813\n",
            "\t----------\n",
            "\tnumber of locations in superbowl dataset: 1213813\n",
            "\t----------\n",
            "\n"
          ],
          "name": "stdout"
        }
      ]
    },
    {
      "metadata": {
        "id": "iPcqVrtKmFeq",
        "colab_type": "code",
        "outputId": "0b3d45c5-d9a7-4d05-8f3a-6d151a8f3049",
        "colab": {
          "base_uri": "https://localhost:8080/",
          "height": 34
        }
      },
      "cell_type": "code",
      "source": [
        "unique_locations = []\n",
        "\n",
        "for location in locations:\n",
        "    if location in unique_locations: # Avoid duplicates\n",
        "        continue\n",
        "\n",
        "    unique_locations.append(location)\n",
        "    \n",
        "print('number of unique locations is: {}'.format(len(unique_locations)))"
      ],
      "execution_count": 40,
      "outputs": [
        {
          "output_type": "stream",
          "text": [
            "number of unique locations is: 179770\n"
          ],
          "name": "stdout"
        }
      ]
    },
    {
      "metadata": {
        "id": "KOpwEbFumFew",
        "colab_type": "text"
      },
      "cell_type": "markdown",
      "source": [
        "## Determine if in MA or WA"
      ]
    },
    {
      "metadata": {
        "id": "Dy3gtiChmFex",
        "colab_type": "code",
        "outputId": "38f7c7f9-dfc4-47f8-c261-84684309dd7b",
        "colab": {
          "base_uri": "https://localhost:8080/",
          "height": 136
        }
      },
      "cell_type": "code",
      "source": [
        "# Define Locations\n",
        "\n",
        "MA_WA = [' MA',' WA', 'Massachusetts', 'Washington', 'Boston', 'Seattle'] # Look for all possible MA and WA matches\n",
        "# NOTE: added 'space' before MA and WA to avoid problems such as IOWA; Could do this differently\n",
        "\n",
        "all_MA_WA = [location for location in unique_locations if any(place in location for place in MA_WA)] # Create list of all places in MA and WA\n",
        "\n",
        "DC = ['DC', 'D.C.', 'D.C']\n",
        "\n",
        "all_MA_WA_no_DC = [location for location in all_MA_WA if not any(place in location for place in DC)] # remove DC and D.C.\n",
        "\n",
        "MA = [' MA', 'Massachusetts', 'Boston'] # Get just locations in Massachusetts\n",
        "WA = [' WA', 'Washington', 'Seattle'] # Get just locations in Washington\n",
        "\n",
        "only_MA = [location for location in all_MA_WA_no_DC if any(place in location for place in MA)] # Get just locations in Massachusetts\n",
        "only_WA = [location for location in all_MA_WA_no_DC if any(place in location for place in WA)] # Get just locations in Washington\n",
        "\n",
        "print('number of unique locations in MA or WA : {}'.format(len(all_MA_WA)))\n",
        "print('-'*10)\n",
        "print('number of unique locations in MA or WA after removing DC: {}'.format(len(all_MA_WA_no_DC)))\n",
        "print('-'*10)\n",
        "print('number of locations in MA: {}'.format(len(only_MA)))\n",
        "print('-'*10)\n",
        "print('number of locations in WA: {}'.format(len(only_WA)))\n",
        "\n",
        "# print('-'*10)\n",
        "# print('Locations in MA and WA: ','\\n', *all_MA_WA_no_DC, sep = \"\\n\")\n",
        "# print('-'*10)\n",
        "# print('Locations in MA: ','\\n', *only_MA, sep = \"\\n\")\n",
        "# print('-'*10)\n",
        "# print('Locations in WA: ','\\n', *only_WA, sep = \"\\n\")"
      ],
      "execution_count": 41,
      "outputs": [
        {
          "output_type": "stream",
          "text": [
            "number of unique locations in MA or WA : 5119\n",
            "----------\n",
            "number of unique locations in MA or WA after removing DC: 4650\n",
            "----------\n",
            "number of locations in MA: 2484\n",
            "----------\n",
            "number of locations in WA: 2182\n"
          ],
          "name": "stdout"
        }
      ]
    },
    {
      "metadata": {
        "id": "HM1l4-N-mFe3",
        "colab_type": "text"
      },
      "cell_type": "markdown",
      "source": [
        "## Extract all tweets from WA or MA"
      ]
    },
    {
      "metadata": {
        "id": "eXoFUkkxmFe4",
        "colab_type": "code",
        "outputId": "d89c5deb-71c7-45ab-9f95-894ad088088e",
        "colab": {
          "base_uri": "https://localhost:8080/",
          "height": 170
        }
      },
      "cell_type": "code",
      "source": [
        "# Extract all tweets from WA or MA\n",
        "\n",
        "# Testing with Fullsize File\n",
        "\n",
        "# Store textual data and location labels 0 if MA 1 if WA \n",
        "tweet_textual_data = [] \n",
        "tweet_location_labels = []\n",
        "\n",
        "# Initialize counting variables to keep track of number of tweets from MA and WA\n",
        "num_tweets_MA = 0\n",
        "num_tweets_WA = 0\n",
        "\n",
        "for root, dirs, files in os.walk(training_dir, topdown=False):\n",
        "    for file in files:\n",
        "        filename = os.path.splitext(file)[0].replace('tweets_#', '')\n",
        "          \n",
        "        # CHANGE TO only_superbowl for final submission\n",
        "        # Only Look at the gopatriots Data file for testing\n",
        "        if not filename in only_superbowl:\n",
        "#         if not filename in only_gopatriots:\n",
        "            continue\n",
        "        \n",
        "        print('Parsing {}...'.format(filename))\n",
        "        \n",
        "        # only extracting specific features from the tweet json objects\n",
        "        \n",
        "        # open the file and read all lines:\n",
        "        with open(os.path.join(root, file), \"r\", encoding=\"utf-8\") as hashtag:\n",
        "            # read line-by-line\n",
        "            for line in hashtag:\n",
        "                json_obj = json.loads(line)\n",
        "                \n",
        "                # get tweets that are only in MA and WA (not DC)\n",
        "                location = json_obj['tweet']['user']['location']\n",
        "                \n",
        "                if not any(MAWA in location for MAWA in all_MA_WA_no_DC):\n",
        "                    continue\n",
        "                \n",
        "                if any (loc in location for loc in only_MA):\n",
        "                    # get textual data\n",
        "                    text = json_obj['tweet']['text'] \n",
        "                    tweet_textual_data.append(text)\n",
        "                    \n",
        "                    # add location is in MA (0)\n",
        "                    tweet_location_labels.append(0)\n",
        "                    \n",
        "                    num_tweets_MA += 1\n",
        "                    \n",
        "                if any (loc in location for loc in only_WA):\n",
        "                    if any (loc in location for loc in DC): # Check if contains DC\n",
        "                        continue\n",
        "                        \n",
        "                    # get textual data\n",
        "                    text = json_obj['tweet']['text'] \n",
        "                    tweet_textual_data.append(text)\n",
        "                \n",
        "                    # add location is in WA (1)\n",
        "                    tweet_location_labels.append(1)\n",
        "                                         \n",
        "                    num_tweets_WA += 1    \n",
        "                    \n",
        "        # process textual data\n",
        "        print('\\t'+'-'*10)\n",
        "        print('\\tNumber of texts in {} dataset: {}'.format(filename, len(tweet_textual_data)))\n",
        "        \n",
        "        # Process MA and WA locations\n",
        "        print('\\t'+'-'*10)\n",
        "        print('\\tNumber of tweets from MA and WA is: {}'.format(len(tweet_location_labels)))\n",
        "        \n",
        "        print('\\t'+'-'*10)\n",
        "        print('\\tNumber of tweets from MA is: ', num_tweets_MA)\n",
        "        \n",
        "        print('\\t'+'-'*10)\n",
        "        print('\\tNumber of tweets from WA is: ', num_tweets_WA)\n",
        "        \n",
        "#         print('\\t'+'-'*10)\n",
        "#         print('\\tTextual data looks like: ', *tweet_textual_data, sep = \"\\n\")\n",
        "        \n",
        "#         print('\\t'+'-'*10)\n",
        "#         print('\\tLabels look like: ', tweet_location_labels)"
      ],
      "execution_count": 42,
      "outputs": [
        {
          "output_type": "stream",
          "text": [
            "Parsing superbowl...\n",
            "\t----------\n",
            "\tNumber of texts in superbowl dataset: 37058\n",
            "\t----------\n",
            "\tNumber of tweets from MA and WA is: 37058\n",
            "\t----------\n",
            "\tNumber of tweets from MA is:  19815\n",
            "\t----------\n",
            "\tNumber of tweets from WA is:  17243\n"
          ],
          "name": "stdout"
        }
      ]
    },
    {
      "metadata": {
        "id": "v_t7DAcCmFe_",
        "colab_type": "code",
        "colab": {}
      },
      "cell_type": "code",
      "source": [
        "tweet_location_labels = np.asarray(tweet_location_labels)\n",
        "\n",
        "class_names = ['Massachusetts', \"Washington\"]"
      ],
      "execution_count": 0,
      "outputs": []
    },
    {
      "metadata": {
        "id": "SGDQCGcMmFfG",
        "colab_type": "code",
        "outputId": "cec521fe-94bd-4ba1-9108-92dac8c209de",
        "colab": {
          "base_uri": "https://localhost:8080/",
          "height": 294
        }
      },
      "cell_type": "code",
      "source": [
        "# Plot distribution of tweets per locations\n",
        "\n",
        "plt.bar([0,1],[num_tweets_MA, num_tweets_WA])\n",
        "plt.xticks([0,1], class_names)\n",
        "plt.xlabel('Number of Tweets')\n",
        "plt.title(\"Tweets Per Location\")\n",
        "plt.show()"
      ],
      "execution_count": 44,
      "outputs": [
        {
          "output_type": "display_data",
          "data": {
            "image/png": "[encoded data removed]",
            "text/plain": [
              "<Figure size 432x288 with 1 Axes>"
            ]
          },
          "metadata": {
            "tags": []
          }
        }
      ]
    },
    {
      "metadata": {
        "id": "oXUy2eG3mFfK",
        "colab_type": "text"
      },
      "cell_type": "markdown",
      "source": [
        "## Define training and testing datasets"
      ]
    },
    {
      "metadata": {
        "id": "oLivBf-wmFfL",
        "colab_type": "code",
        "colab": {}
      },
      "cell_type": "code",
      "source": [
        "# Define training and testing datasets\n",
        "\n",
        "from sklearn.model_selection import KFold\n",
        "from sklearn.model_selection import train_test_split\n",
        "\n",
        "X = np.asarray(tweet_textual_data)\n",
        "y = tweet_location_labels\n",
        "\n",
        "kf = KFold(n_splits=10, shuffle = True)\n",
        "\n",
        "for trainset, testset in kf.split(X):\n",
        "    X_train, X_test = X[trainset], X[testset]\n",
        "    y_train, y_test = y[trainset], y[testset]"
      ],
      "execution_count": 0,
      "outputs": []
    },
    {
      "metadata": {
        "id": "e3qfPCXRmFfO",
        "colab_type": "text"
      },
      "cell_type": "markdown",
      "source": [
        "## Lemmatization & Count Vectorization"
      ]
    },
    {
      "metadata": {
        "id": "JLX3tEz0mFfQ",
        "colab_type": "code",
        "colab": {
          "base_uri": "https://localhost:8080/",
          "height": 119
        },
        "outputId": "17e0d4bb-13cb-4380-f39a-2517356c80cf"
      },
      "cell_type": "code",
      "source": [
        "# Lemmatization functions used by CountVectorizer\n",
        "\n",
        "# The lemmatizer is actually pretty complicated, it needs Parts of Speech (POS) tags\n",
        "import nltk\n",
        "from nltk import pos_tag\n",
        "nltk.download('averaged_perceptron_tagger')\n",
        "nltk.download('wordnet')\n",
        "# nltk.download('punkt')#, if you need \"tokenizers/punkt/english.pickle\", choose it\n",
        "# nltk.download('averaged_perceptron_tagger')\n",
        "\n",
        "from sklearn.feature_extraction.text import CountVectorizer\n",
        "analyzer = CountVectorizer().build_analyzer()\n",
        "\n",
        "def penn2morphy(penntag):\n",
        "    \"\"\" Converts Penn Treebank tags to WordNet. \"\"\"\n",
        "    morphy_tag = {'NN': 'n', 'JJ': 'a',\n",
        "                  'VB': 'v', 'RB': 'r'}\n",
        "    try:\n",
        "        return morphy_tag[penntag[:2]]\n",
        "    except:\n",
        "        return 'n'\n",
        "\n",
        "wnl = nltk.wordnet.WordNetLemmatizer()\n",
        "def lemmatize_sent(list_word):\n",
        "    # Text input is string, returns array of lowercased strings(words).\n",
        "    return [wnl.lemmatize(word.lower(), pos=penn2morphy(tag)) \n",
        "            for word, tag in pos_tag(list_word)]\n",
        "\n",
        "def isfloat(string):\n",
        "    try:\n",
        "        float(string)\n",
        "        return True\n",
        "    except:\n",
        "        return False\n",
        "\n",
        "def stem_rmv_punc(doc):\n",
        "    return (word for word in lemmatize_sent(analyzer(doc)) if not isfloat(word))"
      ],
      "execution_count": 46,
      "outputs": [
        {
          "output_type": "stream",
          "text": [
            "[nltk_data] Downloading package averaged_perceptron_tagger to\n",
            "[nltk_data]     /root/nltk_data...\n",
            "[nltk_data]   Package averaged_perceptron_tagger is already up-to-\n",
            "[nltk_data]       date!\n",
            "[nltk_data] Downloading package wordnet to /root/nltk_data...\n",
            "[nltk_data]   Package wordnet is already up-to-date!\n"
          ],
          "name": "stdout"
        }
      ]
    },
    {
      "metadata": {
        "id": "xN6sZ_gnmFfT",
        "colab_type": "code",
        "colab": {}
      },
      "cell_type": "code",
      "source": [
        "# Push lemmatized documents through CountVectorizer\n",
        "\n",
        "count_vect = CountVectorizer(min_df=3, analyzer=stem_rmv_punc, stop_words='english')\n",
        "\n",
        "# do for training\n",
        "X_lemmatized_train_counts = count_vect.fit_transform(X_train)\n",
        "\n",
        "# do for testing\n",
        "X_lemmatized_test_counts = count_vect.transform(X_test)"
      ],
      "execution_count": 0,
      "outputs": []
    },
    {
      "metadata": {
        "id": "JYnNGp1ymFfX",
        "colab_type": "text"
      },
      "cell_type": "markdown",
      "source": [
        "## Feature Extraction"
      ]
    },
    {
      "metadata": {
        "id": "YkkQZbk4mFfY",
        "colab_type": "code",
        "outputId": "b952f8e4-b0c4-4420-d774-45fcf23e079a",
        "colab": {
          "base_uri": "https://localhost:8080/",
          "height": 51
        }
      },
      "cell_type": "code",
      "source": [
        "# Report shapes of TF-IDF matrices\n",
        "\n",
        "from sklearn.feature_extraction.text import TfidfTransformer\n",
        "tfidf_transformer = TfidfTransformer()\n",
        "\n",
        "# do for training\n",
        "X_lemmatized_train_tfidf = tfidf_transformer.fit_transform(X_lemmatized_train_counts)\n",
        "print(X_lemmatized_train_tfidf.shape)\n",
        "\n",
        "# do for testing\n",
        "X_lemmatized_test_tfidf = tfidf_transformer.transform(X_lemmatized_test_counts)\n",
        "print(X_lemmatized_test_tfidf.shape)"
      ],
      "execution_count": 48,
      "outputs": [
        {
          "output_type": "stream",
          "text": [
            "(33353, 6676)\n",
            "(3705, 6676)\n"
          ],
          "name": "stdout"
        }
      ]
    },
    {
      "metadata": {
        "id": "HNKSHgMmmFfc",
        "colab_type": "text"
      },
      "cell_type": "markdown",
      "source": [
        "## Dimensionality Reduction"
      ]
    },
    {
      "metadata": {
        "id": "BIywEPOKmFfd",
        "colab_type": "text"
      },
      "cell_type": "markdown",
      "source": [
        "### NMF"
      ]
    },
    {
      "metadata": {
        "id": "NeQYWPUUmFff",
        "colab_type": "code",
        "outputId": "ff6c8295-5bc6-4b54-cf84-7fa4fc276a84",
        "colab": {
          "base_uri": "https://localhost:8080/",
          "height": 51
        }
      },
      "cell_type": "code",
      "source": [
        "# Perform NMF\n",
        "\n",
        "from sklearn.decomposition import NMF\n",
        "\n",
        "model = NMF(n_components=50, init='random', random_state=42)\n",
        "W_nmf_train_reduced = model.fit_transform(X_lemmatized_train_tfidf)\n",
        "H_nmf_train_reduced = model.components_\n",
        "\n",
        "print(W_nmf_train_reduced.shape)\n",
        "print(H_nmf_train_reduced.shape)\n",
        "\n",
        "W_nmf_test_reduced = model.transform(X_lemmatized_test_tfidf)\n",
        "H_nmf_test_reduced = model.components_"
      ],
      "execution_count": 49,
      "outputs": [
        {
          "output_type": "stream",
          "text": [
            "(33353, 50)\n",
            "(50, 6676)\n"
          ],
          "name": "stdout"
        }
      ]
    },
    {
      "metadata": {
        "id": "YpSHMrwKmFfl",
        "colab_type": "text"
      },
      "cell_type": "markdown",
      "source": [
        "### LSI"
      ]
    },
    {
      "metadata": {
        "id": "jvWL54uxmFfn",
        "colab_type": "code",
        "outputId": "2e4c1f9b-fdd9-4ecb-c7fc-3c59126c5139",
        "colab": {
          "base_uri": "https://localhost:8080/",
          "height": 85
        }
      },
      "cell_type": "code",
      "source": [
        "# Perform LSI using the truncated SVD\n",
        "\n",
        "from sklearn.decomposition import TruncatedSVD\n",
        "\n",
        "svd = TruncatedSVD(n_components=50, random_state=42)\n",
        "X_lsi_train_reduced = svd.fit_transform(X_lemmatized_train_tfidf)\n",
        "Y_lsi_train_reduced = svd.components_\n",
        "print(X_lsi_train_reduced.shape)\n",
        "print(svd.components_.shape)\n",
        "\n",
        "X_lsi_test_reduced = svd.transform(X_lemmatized_test_tfidf)\n",
        "Y_lsi_test_reduced = svd.components_\n",
        "print(X_lsi_train_reduced.shape)\n",
        "print(svd.components_.shape)"
      ],
      "execution_count": 50,
      "outputs": [
        {
          "output_type": "stream",
          "text": [
            "(33353, 50)\n",
            "(50, 6676)\n",
            "(33353, 50)\n",
            "(50, 6676)\n"
          ],
          "name": "stdout"
        }
      ]
    },
    {
      "metadata": {
        "id": "up4ZfemzmFfr",
        "colab_type": "code",
        "outputId": "137c48f8-cdf9-44e8-eac7-6adae19fad13",
        "colab": {
          "base_uri": "https://localhost:8080/",
          "height": 51
        }
      },
      "cell_type": "code",
      "source": [
        "# Compare LSI and NMF (Training)\n",
        "\n",
        "nmf_val = np.linalg.norm(X_lemmatized_train_tfidf - np.matmul(W_nmf_train_reduced, H_nmf_train_reduced), 'fro')**2\n",
        "lsi_val = np.linalg.norm(X_lemmatized_train_tfidf - np.matmul(X_lsi_train_reduced, Y_lsi_train_reduced), 'fro')**2\n",
        "\n",
        "print('NMF: ', nmf_val)\n",
        "print('LSI: ', lsi_val)"
      ],
      "execution_count": 51,
      "outputs": [
        {
          "output_type": "stream",
          "text": [
            "NMF:  25784.076295041883\n",
            "LSI:  25678.749629641556\n"
          ],
          "name": "stdout"
        }
      ]
    },
    {
      "metadata": {
        "id": "DHihyLq8mFfv",
        "colab_type": "code",
        "colab": {
          "base_uri": "https://localhost:8080/",
          "height": 51
        },
        "outputId": "fb821245-a454-4b01-f5e8-6f532019666f"
      },
      "cell_type": "code",
      "source": [
        "# Compare LSI and NMF (Testing)\n",
        "\n",
        "nmf_val = np.linalg.norm(X_lemmatized_test_tfidf - np.matmul(W_nmf_test_reduced, H_nmf_test_reduced), 'fro')**2\n",
        "lsi_val = np.linalg.norm(X_lemmatized_test_tfidf - np.matmul(X_lsi_test_reduced, Y_lsi_test_reduced), 'fro')**2\n",
        "\n",
        "print('NMF: ', nmf_val)\n",
        "print('LSI: ', lsi_val)"
      ],
      "execution_count": 52,
      "outputs": [
        {
          "output_type": "stream",
          "text": [
            "NMF:  2842.4320260810796\n",
            "LSI:  2838.8071520811523\n"
          ],
          "name": "stdout"
        }
      ]
    },
    {
      "metadata": {
        "id": "tePJsNTLmFfx",
        "colab_type": "text"
      },
      "cell_type": "markdown",
      "source": [
        "## Define Confusion Matrix Plot"
      ]
    },
    {
      "metadata": {
        "id": "VGHhUIaxmFfy",
        "colab_type": "code",
        "colab": {}
      },
      "cell_type": "code",
      "source": [
        "# Taken from scikit-learn website: https://scikit-learn.org/stable/auto_examples/model_selection/plot_confusion_matrix.html\n",
        "\n",
        "import itertools\n",
        "\n",
        "def plot_confusion_matrix(cm, classes,\n",
        "                          normalize=False,\n",
        "                          title='Confusion matrix',\n",
        "                          cmap=plt.cm.Blues):\n",
        "    \"\"\"\n",
        "    This function prints and plots the confusion matrix.\n",
        "    Normalization can be applied by setting `normalize=True`.\n",
        "    \"\"\"\n",
        "    if normalize:\n",
        "        cm = cm.astype('float') / cm.sum(axis=1)[:, np.newaxis]\n",
        "        print(\"Normalized confusion matrix\")\n",
        "    else:\n",
        "        print('Confusion matrix, without normalization')\n",
        "\n",
        "    print(cm)\n",
        "\n",
        "    plt.imshow(cm, interpolation='nearest', cmap=cmap)\n",
        "    plt.title(title)\n",
        "    plt.colorbar()\n",
        "    tick_marks = np.arange(len(classes))\n",
        "    plt.xticks(tick_marks, classes, rotation=45)\n",
        "    plt.yticks(tick_marks, classes)\n",
        "\n",
        "    fmt = '.2f' if normalize else 'd'\n",
        "    thresh = cm.max() / 2.\n",
        "    for i, j in itertools.product(range(cm.shape[0]), range(cm.shape[1])):\n",
        "        plt.text(j, i, format(cm[i, j], fmt),\n",
        "                 horizontalalignment=\"center\",\n",
        "                 color=\"white\" if cm[i, j] > thresh else \"black\")\n",
        "\n",
        "    plt.ylabel('True label')\n",
        "    plt.xlabel('Predicted label')\n",
        "    plt.tight_layout()"
      ],
      "execution_count": 0,
      "outputs": []
    },
    {
      "metadata": {
        "id": "cECQh2fumFf0",
        "colab_type": "text"
      },
      "cell_type": "markdown",
      "source": [
        "## Classifier Training"
      ]
    },
    {
      "metadata": {
        "id": "DBaFYJffmFf2",
        "colab_type": "text"
      },
      "cell_type": "markdown",
      "source": [
        "### 1. SVM with Hard and Soft Margin, (LSI)"
      ]
    },
    {
      "metadata": {
        "id": "4AAreM2hmFf3",
        "colab_type": "code",
        "colab": {}
      },
      "cell_type": "code",
      "source": [
        "# Training 2 linear SVMs using LSI\n",
        "\n",
        "from sklearn.svm import LinearSVC\n",
        "\n",
        "# hard margin\n",
        "gamma_1 = 1000\n",
        "clf_svc_1 = LinearSVC(C=gamma_1,max_iter=100000).fit(X_lsi_train_reduced, y_train)\n",
        "predicted_svc_1 = clf_svc_1.predict(X_lsi_test_reduced)\n",
        "\n",
        "# using max_iter=100000 because otherwise the hard margin classifier does not converge\n",
        "\n",
        "#soft margin\n",
        "gamma_2 = 0.0001\n",
        "clf_svc_2 = LinearSVC(C=gamma_2,max_iter=100000).fit(X_lsi_train_reduced, y_train)\n",
        "predicted_svc_2 = clf_svc_2.predict(X_lsi_test_reduced)"
      ],
      "execution_count": 0,
      "outputs": []
    },
    {
      "metadata": {
        "id": "mXnBDvsxmFf6",
        "colab_type": "text"
      },
      "cell_type": "markdown",
      "source": [
        "#### 1.1 SVM Hard Margin Metrics"
      ]
    },
    {
      "metadata": {
        "id": "zRlgLbc3mFf7",
        "colab_type": "code",
        "colab": {
          "base_uri": "https://localhost:8080/",
          "height": 747
        },
        "outputId": "83eb11a1-2d3a-48a1-bf69-770ee5888d52"
      },
      "cell_type": "code",
      "source": [
        "# Find confusion matrix, accuracy, precision-recall, and F-1 scores for the hard margin\n",
        "\n",
        "# Confusion matrix\n",
        "from sklearn.metrics import confusion_matrix\n",
        "\n",
        "# print('Confusion matrix for linear SVM hard margin: \\n', confusion_matrix(twenty_test_binary_labels, predicted_svc_1))\n",
        "\n",
        "plt.figure()\n",
        "plot_confusion_matrix(confusion_matrix(y_test, predicted_svc_1), classes=class_names)\n",
        "plt.show()\n",
        "\n",
        "plt.figure()\n",
        "plot_confusion_matrix(confusion_matrix(y_test, predicted_svc_1), classes=class_names, normalize=True)\n",
        "plt.show()\n",
        "\n",
        "# Accuracy\n",
        "from sklearn.metrics import accuracy_score\n",
        "\n",
        "print('Accuracy for linear SVM hard margin: ', accuracy_score(y_test, predicted_svc_1))\n",
        "\n",
        "# Average precision-recall score\n",
        "from sklearn.metrics import average_precision_score\n",
        "from sklearn.metrics import precision_score\n",
        "from sklearn.metrics import recall_score\n",
        "\n",
        "# print('Average precision-recall score:', average_precision_score(twenty_test.target, predicted))\n",
        "print('Precision score for linear SVM hard margin: ', precision_score(y_test, predicted_svc_1))\n",
        "print('Recall score for linear SVM hard margin: ', recall_score(y_test, predicted_svc_1))\n",
        "\n",
        "# F-1 score\n",
        "from sklearn.metrics import f1_score\n",
        "\n",
        "print('F-1 score for linear SVM hard margin:', f1_score(y_test, predicted_svc_1))"
      ],
      "execution_count": 55,
      "outputs": [
        {
          "output_type": "stream",
          "text": [
            "Confusion matrix, without normalization\n",
            "[[1858  120]\n",
            " [ 668 1059]]\n"
          ],
          "name": "stdout"
        },
        {
          "output_type": "display_data",
          "data": {
            "image/png": "[encoded data removed]",
            "text/plain": [
              "<Figure size 432x288 with 2 Axes>"
            ]
          },
          "metadata": {
            "tags": []
          }
        },
        {
          "output_type": "stream",
          "text": [
            "Normalized confusion matrix\n",
            "[[0.93933266 0.06066734]\n",
            " [0.38679792 0.61320208]]\n"
          ],
          "name": "stdout"
        },
        {
          "output_type": "display_data",
          "data": {
            "image/png": "[encoded data removed]",
            "text/plain": [
              "<Figure size 432x288 with 2 Axes>"
            ]
          },
          "metadata": {
            "tags": []
          }
        },
        {
          "output_type": "stream",
          "text": [
            "Accuracy for linear SVM hard margin:  0.7873144399460189\n",
            "Precision score for linear SVM hard margin:  0.8982188295165394\n",
            "Recall score for linear SVM hard margin:  0.6132020845396642\n",
            "F-1 score for linear SVM hard margin: 0.7288368891947694\n"
          ],
          "name": "stdout"
        }
      ]
    },
    {
      "metadata": {
        "id": "b_ZJIxm1mFf_",
        "colab_type": "code",
        "colab": {
          "base_uri": "https://localhost:8080/",
          "height": 294
        },
        "outputId": "08d76cb2-151c-490c-c54c-5c68786f48f6"
      },
      "cell_type": "code",
      "source": [
        "# ROC curve for hard margin SVM\n",
        "\n",
        "from sklearn.metrics import roc_curve\n",
        "from sklearn.metrics import roc_auc_score\n",
        "\n",
        "score_svc_1 = clf_svc_1.decision_function(X_lsi_test_reduced)\n",
        "fpr_svc_1, tpr_svc_1, thresholds_svc_1 = roc_curve(y_test, score_svc_1)\n",
        "\n",
        "plt.figure()\n",
        "plt.plot(fpr_svc_1, tpr_svc_1)\n",
        "plt.title('ROC curve for hard margin linear SVM')\n",
        "plt.text(0.5, 0.1, 'area under curve = %0.4f' % roc_auc_score(y_test, score_svc_1))\n",
        "plt.xlabel('false positive rate for hard margin linear SVM')\n",
        "plt.ylabel('true positive rate for hard margin linear SVM')\n",
        "plt.xlim(left=-0.02)\n",
        "plt.ylim(top=1.02)\n",
        "plt.show()"
      ],
      "execution_count": 56,
      "outputs": [
        {
          "output_type": "display_data",
          "data": {
            "image/png": "[encoded data removed]",
            "text/plain": [
              "<Figure size 432x288 with 1 Axes>"
            ]
          },
          "metadata": {
            "tags": []
          }
        }
      ]
    },
    {
      "metadata": {
        "id": "IEY4uQbbmFgD",
        "colab_type": "text"
      },
      "cell_type": "markdown",
      "source": [
        "#### 1.2 SVM Soft Margin Metrics"
      ]
    },
    {
      "metadata": {
        "id": "j0bZ8fbQmFgE",
        "colab_type": "code",
        "colab": {
          "base_uri": "https://localhost:8080/",
          "height": 747
        },
        "outputId": "e5a2266b-9103-4e09-fe89-d19d760fe016"
      },
      "cell_type": "code",
      "source": [
        "# Find confusion matrix, accuracy, precision-recall, and F-1 scores for the soft margin\n",
        "\n",
        "# Confusion matrix\n",
        "from sklearn.metrics import confusion_matrix\n",
        "\n",
        "# print('Confusion matrix for linear SVM soft margin: \\n', confusion_matrix(twenty_test_binary_labels, predicted_svc_2))\n",
        "\n",
        "plt.figure()\n",
        "plot_confusion_matrix(confusion_matrix(y_test, predicted_svc_2), classes=class_names)\n",
        "plt.show()\n",
        "\n",
        "plt.figure()\n",
        "plot_confusion_matrix(confusion_matrix(y_test, predicted_svc_2), classes=class_names, normalize=True)\n",
        "plt.show()\n",
        "\n",
        "# Accuracy\n",
        "from sklearn.metrics import accuracy_score\n",
        "\n",
        "print('Accuracy for linear SVM soft margin: ', accuracy_score(y_test, predicted_svc_2))\n",
        "\n",
        "# Average precision-recall score\n",
        "from sklearn.metrics import average_precision_score\n",
        "from sklearn.metrics import precision_score\n",
        "from sklearn.metrics import recall_score\n",
        "\n",
        "# print('Average precision-recall score:', average_precision_score(twenty_test.target, predicted))\n",
        "print('Precision score for linear SVM soft margin: ', precision_score(y_test, predicted_svc_2))\n",
        "print('Recall score for linear SVM soft margin: ', recall_score(y_test, predicted_svc_2))\n",
        "\n",
        "# F-1 score\n",
        "from sklearn.metrics import f1_score\n",
        "\n",
        "print('F-1 score for linear SVM soft margin:', f1_score(y_test, predicted_svc_2))"
      ],
      "execution_count": 57,
      "outputs": [
        {
          "output_type": "stream",
          "text": [
            "Confusion matrix, without normalization\n",
            "[[1976    2]\n",
            " [1484  243]]\n"
          ],
          "name": "stdout"
        },
        {
          "output_type": "display_data",
          "data": {
            "image/png": "[encoded data removed]",
            "text/plain": [
              "<Figure size 432x288 with 2 Axes>"
            ]
          },
          "metadata": {
            "tags": []
          }
        },
        {
          "output_type": "stream",
          "text": [
            "Normalized confusion matrix\n",
            "[[0.99898888 0.00101112]\n",
            " [0.85929357 0.14070643]]\n"
          ],
          "name": "stdout"
        },
        {
          "output_type": "display_data",
          "data": {
            "image/png": "[encoded data removed]",
            "text/plain": [
              "<Figure size 432x288 with 2 Axes>"
            ]
          },
          "metadata": {
            "tags": []
          }
        },
        {
          "output_type": "stream",
          "text": [
            "Accuracy for linear SVM soft margin:  0.5989203778677463\n",
            "Precision score for linear SVM soft margin:  0.9918367346938776\n",
            "Recall score for linear SVM soft margin:  0.14070642733063116\n",
            "F-1 score for linear SVM soft margin: 0.24645030425963488\n"
          ],
          "name": "stdout"
        }
      ]
    },
    {
      "metadata": {
        "id": "4NqVCEgKmFgH",
        "colab_type": "code",
        "colab": {
          "base_uri": "https://localhost:8080/",
          "height": 294
        },
        "outputId": "66538db1-c8d8-43c0-8927-9ae8c847550f"
      },
      "cell_type": "code",
      "source": [
        "# ROC curve for soft margin SVM\n",
        "\n",
        "from sklearn.metrics import roc_curve\n",
        "from sklearn.metrics import roc_auc_score\n",
        "\n",
        "score_svc_2 = clf_svc_2.decision_function(X_lsi_test_reduced)\n",
        "fpr_svc_2, tpr_svc_2, thresholds_svc_2 = roc_curve(y_test, score_svc_2)\n",
        "\n",
        "plt.figure()\n",
        "plt.plot(fpr_svc_2, tpr_svc_2)\n",
        "plt.title('ROC curve for soft margin linear SVM')\n",
        "plt.text(0.5, 0.1, 'area under curve = %0.4f' % roc_auc_score(y_test, score_svc_2))\n",
        "plt.xlabel('false positive rate for soft margin linear SVM')\n",
        "plt.ylabel('true positive rate for soft margin linear SVM')\n",
        "plt.xlim(left=-0.02)\n",
        "plt.ylim(top=1.02)\n",
        "plt.show()"
      ],
      "execution_count": 58,
      "outputs": [
        {
          "output_type": "display_data",
          "data": {
            "image/png": "[encoded data removed]",
            "text/plain": [
              "<Figure size 432x288 with 1 Axes>"
            ]
          },
          "metadata": {
            "tags": []
          }
        }
      ]
    },
    {
      "metadata": {
        "id": "K6ZM_iPMmFgM",
        "colab_type": "text"
      },
      "cell_type": "markdown",
      "source": [
        "###  2. Logistic Regression without Regularization"
      ]
    },
    {
      "metadata": {
        "id": "Ex5FmJQYmFgN",
        "colab_type": "code",
        "colab": {}
      },
      "cell_type": "code",
      "source": [
        "# Train an unregularized logistic regression classifier.\n",
        "\n",
        "from sklearn.linear_model import LogisticRegression\n",
        "\n",
        "# To be unregularized, we make the inverse of the regularization strength C \n",
        "# to be large to approximate an unregularized classifier.\n",
        "clf = LogisticRegression(random_state=42, C=500, max_iter=100, solver='lbfgs').fit(X_lsi_train_reduced, y_train)\n",
        "\n",
        "# score = clf.decision_function(X_lsi_test_reduced)\n",
        "predicted = clf.predict(X_lsi_test_reduced)"
      ],
      "execution_count": 0,
      "outputs": []
    },
    {
      "metadata": {
        "id": "pJQczcrHmFgQ",
        "colab_type": "text"
      },
      "cell_type": "markdown",
      "source": [
        "#### 2.1 Logistic Regression without Regularization Metrics"
      ]
    },
    {
      "metadata": {
        "id": "PW3lMrOtmFgR",
        "colab_type": "code",
        "colab": {
          "base_uri": "https://localhost:8080/",
          "height": 747
        },
        "outputId": "aa093764-e6a3-4ad5-f85e-688adc548fed"
      },
      "cell_type": "code",
      "source": [
        "# Find confusion matrix, accuracy, precision-recall, and F-1 scores\n",
        "\n",
        "# Confusion matrix\n",
        "from sklearn.metrics import confusion_matrix\n",
        "\n",
        "# print('Confusion matrix: \\n', confusion_matrix(twenty_test_binary_labels, predicted))\n",
        "plt.figure()\n",
        "plot_confusion_matrix(confusion_matrix(y_test, predicted), classes=class_names)\n",
        "plt.show()\n",
        "plt.figure()\n",
        "plot_confusion_matrix(confusion_matrix(y_test, predicted), classes=class_names, normalize=True)\n",
        "plt.show()\n",
        "\n",
        "# Accuracy\n",
        "from sklearn.metrics import accuracy_score\n",
        "\n",
        "print('Accuracy: ', accuracy_score(y_test, predicted))\n",
        "\n",
        "# Average precision-recall score\n",
        "from sklearn.metrics import average_precision_score\n",
        "from sklearn.metrics import precision_score\n",
        "from sklearn.metrics import recall_score\n",
        "\n",
        "# print('Average precision-recall score:', average_precision_score(twenty_test.target, predicted))\n",
        "print('Precision score: ', precision_score(y_test, predicted))\n",
        "print('Recall score: ', recall_score(y_test, predicted))\n",
        "\n",
        "# F-1 score\n",
        "from sklearn.metrics import f1_score\n",
        "\n",
        "print('F-1 score:', f1_score(y_test, predicted))"
      ],
      "execution_count": 60,
      "outputs": [
        {
          "output_type": "stream",
          "text": [
            "Confusion matrix, without normalization\n",
            "[[1852  126]\n",
            " [ 655 1072]]\n"
          ],
          "name": "stdout"
        },
        {
          "output_type": "display_data",
          "data": {
            "image/png": "[encoded data removed]",
            "text/plain": [
              "<Figure size 432x288 with 2 Axes>"
            ]
          },
          "metadata": {
            "tags": []
          }
        },
        {
          "output_type": "stream",
          "text": [
            "Normalized confusion matrix\n",
            "[[0.93629929 0.06370071]\n",
            " [0.37927041 0.62072959]]\n"
          ],
          "name": "stdout"
        },
        {
          "output_type": "display_data",
          "data": {
            "image/png": "[encoded data removed]",
            "text/plain": [
              "<Figure size 432x288 with 2 Axes>"
            ]
          },
          "metadata": {
            "tags": []
          }
        },
        {
          "output_type": "stream",
          "text": [
            "Accuracy:  0.7892037786774629\n",
            "Precision score:  0.8948247078464107\n",
            "Recall score:  0.6207295888824551\n",
            "F-1 score: 0.732991452991453\n"
          ],
          "name": "stdout"
        }
      ]
    },
    {
      "metadata": {
        "id": "-yF1u3zgmFgV",
        "colab_type": "code",
        "colab": {
          "base_uri": "https://localhost:8080/",
          "height": 294
        },
        "outputId": "190ffb07-b526-4192-c2cf-3fd6ac8e7e89"
      },
      "cell_type": "code",
      "source": [
        "# ROC curve\n",
        "\n",
        "from sklearn.metrics import roc_curve\n",
        "from sklearn.metrics import roc_auc_score\n",
        "\n",
        "score = clf.decision_function(X_lsi_test_reduced)\n",
        "fpr, tpr, thresholds = roc_curve(y_test, score)\n",
        "\n",
        "plt.figure()\n",
        "plt.plot(fpr, tpr)\n",
        "plt.text(0.5, 0.1, 'area under curve = %0.4f' % roc_auc_score(y_test, score))\n",
        "plt.title('ROC curve for unregularized logistic regression')\n",
        "plt.xlabel('false positive rate')\n",
        "plt.ylabel('true positive rate')\n",
        "plt.xlim(left=-0.02)\n",
        "plt.ylim(top=1.02)\n",
        "plt.show()"
      ],
      "execution_count": 61,
      "outputs": [
        {
          "output_type": "display_data",
          "data": {
            "image/png": "[encoded data removed]",
            "text/plain": [
              "<Figure size 432x288 with 1 Axes>"
            ]
          },
          "metadata": {
            "tags": []
          }
        }
      ]
    },
    {
      "metadata": {
        "id": "30z9e9o6mFgZ",
        "colab_type": "text"
      },
      "cell_type": "markdown",
      "source": [
        "### 3. Logistic Regression With L1 & L2 Regularization"
      ]
    },
    {
      "metadata": {
        "id": "QhYz6HFhmFga",
        "colab_type": "code",
        "colab": {
          "base_uri": "https://localhost:8080/",
          "height": 792
        },
        "outputId": "942cb56b-9a9e-4e08-b69d-59cadf18add8"
      },
      "cell_type": "code",
      "source": [
        "from sklearn.linear_model import LogisticRegressionCV\n",
        "\n",
        "# Define training and testing data sets\n",
        "X_train = X_lsi_train_reduced\n",
        "X_test = X_lsi_test_reduced\n",
        "\n",
        "# Define regularization strength values here\n",
        "REG_STRENGTH_OPTIONS = [0.001, 0.01, 0.1, 1, 10, 100, 1000]\n",
        "\n",
        "# Determine regulation strength for L1 regulation\n",
        "clf_L1 = LogisticRegressionCV(random_state=42, Cs=REG_STRENGTH_OPTIONS, cv=5, penalty='l1', scoring='accuracy', solver = 'liblinear').fit(X_train, y_train)\n",
        "l1_reg_strength = 1/clf_L1.C_ # Regulization strength is inverse of optimal Cs\n",
        "predicted_L1 = clf_L1.predict(X_test)\n",
        "\n",
        "# Display L1 Stats\n",
        "print('Optimal regularization strength for L1 Regulation: ', l1_reg_strength)\n",
        "print('Accuracy with L1 Regulation for L1 Regulation: ', clf_L1.score(X_test, y_test))\n",
        "print('Average precision-recall score for L1 Regulation:', average_precision_score(y_test, predicted_L1))\n",
        "print('Precision score for L1 Regulation: ', precision_score(y_test, predicted_L1))\n",
        "print('Recall score for L1 Regulation: ', recall_score(y_test, predicted_L1))\n",
        "print('F-1 score for L1 Regulation:', f1_score(y_test, predicted_L1))\n",
        "\n",
        "# L1 ROC Curve\n",
        "score_L1 = clf_L1.decision_function(X_test)\n",
        "fpr, tpr, thresholds = roc_curve(y_test, score_L1)\n",
        "\n",
        "plt.figure()\n",
        "plt.plot(fpr, tpr)\n",
        "plt.title('ROC curve for L1 Regularized Logistic Regression')\n",
        "plt.text(0.5, 0.1, 'area under curve = %0.4f' % roc_auc_score(y_test, score_L1))\n",
        "plt.xlabel('false positive rate')\n",
        "plt.ylabel('true positive rate')\n",
        "plt.xlim(left=-0.01)\n",
        "plt.show()\n",
        "\n",
        "# Determine regulation strength for L2 regulation\n",
        "clf_L2 = LogisticRegressionCV(random_state=42, Cs=REG_STRENGTH_OPTIONS, cv=5, penalty='l2', scoring='accuracy', solver = 'liblinear').fit(X_train, y_train)\n",
        "L2_reg_strength = 1/clf_L2.C_ # Regulization strength is inverse of optimal Cs\n",
        "predicted_L2 = clf_L2.predict(X_test)\n",
        "\n",
        "# Display L2 Stats\n",
        "print('\\nOptimal regularization strength for L2 regulation: ', L2_reg_strength)\n",
        "print('Accuracy with L2 Regulation: ', clf_L2.score(X_test, y_test))\n",
        "print('Average precision-recall score for L2 Regulation:', average_precision_score(y_test, predicted_L2))\n",
        "print('Precision score for L2 Regulation: ', precision_score(y_test, predicted_L2))\n",
        "print('Recall score for L2 Regulation: ', recall_score(y_test, predicted_L2))\n",
        "print('F-1 score for L2 Regulation:', f1_score(y_test, predicted_L2))\n",
        "\n",
        "# L2 ROC Curve\n",
        "score_L2 = clf_L2.decision_function(X_test)\n",
        "fpr, tpr, thresholds = roc_curve(y_test, score_L2)\n",
        "\n",
        "plt.figure()\n",
        "plt.plot(fpr, tpr)\n",
        "plt.title('ROC curve for L2 Regularized Logistic Regression')\n",
        "plt.text(0.5, 0.1, 'area under curve = %0.4f' % roc_auc_score(y_test, score_L2))\n",
        "plt.xlabel('false positive rate')\n",
        "plt.ylabel('true positive rate')\n",
        "plt.xlim(left=-0.01)\n",
        "plt.show()"
      ],
      "execution_count": 62,
      "outputs": [
        {
          "output_type": "stream",
          "text": [
            "Optimal regularization strength for L1 Regulation:  [0.1]\n",
            "Accuracy with L1 Regulation for L1 Regulation:  0.7889338731443994\n",
            "Average precision-recall score for L1 Regulation: 0.7319295745041638\n",
            "Precision score for L1 Regulation:  0.8947368421052632\n",
            "Recall score for L1 Regulation:  0.6201505500868558\n",
            "F-1 score for L1 Regulation: 0.7325581395348837\n"
          ],
          "name": "stdout"
        },
        {
          "output_type": "display_data",
          "data": {
            "image/png": "[encoded data removed]",
            "text/plain": [
              "<Figure size 432x288 with 1 Axes>"
            ]
          },
          "metadata": {
            "tags": []
          }
        },
        {
          "output_type": "stream",
          "text": [
            "\n",
            "Optimal regularization strength for L2 regulation:  [0.01]\n",
            "Accuracy with L2 Regulation:  0.7892037786774629\n",
            "Average precision-recall score for L2 Regulation: 0.7322322971799107\n",
            "Precision score for L2 Regulation:  0.8948247078464107\n",
            "Recall score for L2 Regulation:  0.6207295888824551\n",
            "F-1 score for L2 Regulation: 0.732991452991453\n"
          ],
          "name": "stdout"
        },
        {
          "output_type": "display_data",
          "data": {
            "image/png": "[encoded data removed]",
            "text/plain": [
              "<Figure size 432x288 with 1 Axes>"
            ]
          },
          "metadata": {
            "tags": []
          }
        }
      ]
    },
    {
      "metadata": {
        "id": "dUT8AtpWmFgc",
        "colab_type": "text"
      },
      "cell_type": "markdown",
      "source": [
        "### 4. Naive Bayes Gaussian Classifier"
      ]
    },
    {
      "metadata": {
        "id": "HYuPrkbKmFgd",
        "colab_type": "code",
        "colab": {}
      },
      "cell_type": "code",
      "source": [
        "from sklearn.naive_bayes import GaussianNB"
      ],
      "execution_count": 0,
      "outputs": []
    },
    {
      "metadata": {
        "id": "6J24sHGcmFgf",
        "colab_type": "code",
        "colab": {
          "base_uri": "https://localhost:8080/",
          "height": 1041
        },
        "outputId": "8872714f-3735-4d7e-bbb1-9a47b3c6505e"
      },
      "cell_type": "code",
      "source": [
        "# Generate stats for GaussianNB using LSI for reduction\n",
        "\n",
        "# Define training and testing data sets\n",
        "X_train = X_lsi_train_reduced\n",
        "X_test = X_lsi_test_reduced\n",
        "\n",
        "clf = GaussianNB().fit(X_train, y_train)\n",
        "\n",
        "predicted = clf.predict(X_test)\n",
        "\n",
        "# Confusion Matrix\n",
        "plt.figure()\n",
        "plot_confusion_matrix(confusion_matrix(y_test, predicted), classes=class_names)\n",
        "plt.show()\n",
        "plt.figure()\n",
        "plot_confusion_matrix(confusion_matrix(y_test, predicted), classes=class_names, normalize=True)\n",
        "plt.show()\n",
        "\n",
        "# Display GNB Stats\n",
        "print('Accuracy for Gaussian NB from LSI: ', clf.score(X_test, y_test))\n",
        "print('Average precision-recall score for Gaussian NB from LSI:', average_precision_score(y_test, predicted))\n",
        "print('Precision score for Gaussian NB from LSI: ', precision_score(y_test, predicted))\n",
        "print('Recall score for Gaussian NB from LSI: ', recall_score(y_test, predicted))\n",
        "print('F-1 score for Gaussian NB from LSI:', f1_score(y_test, predicted))\n",
        "\n",
        "# GNB ROC Curve\n",
        "prob_score = clf.predict_proba(X_test)\n",
        "fpr, tpr, thresholds = roc_curve(y_test, prob_score[:, 1])\n",
        "\n",
        "plt.figure()\n",
        "plt.plot(fpr, tpr)\n",
        "plt.title('ROC curve for Gaussian NB from LSI')\n",
        "plt.text(0.5, 0.1, 'area under curve = %0.4f' % roc_auc_score(y_test, prob_score[:, 1]))\n",
        "plt.xlabel('false positive rate')\n",
        "plt.ylabel('true positive rate')\n",
        "plt.xlim(left=-0.01)\n",
        "plt.show()"
      ],
      "execution_count": 64,
      "outputs": [
        {
          "output_type": "stream",
          "text": [
            "Confusion matrix, without normalization\n",
            "[[1603  375]\n",
            " [ 639 1088]]\n"
          ],
          "name": "stdout"
        },
        {
          "output_type": "display_data",
          "data": {
            "image/png": "[encoded data removed]",
            "text/plain": [
              "<Figure size 432x288 with 2 Axes>"
            ]
          },
          "metadata": {
            "tags": []
          }
        },
        {
          "output_type": "stream",
          "text": [
            "Normalized confusion matrix\n",
            "[[0.81041456 0.18958544]\n",
            " [0.37000579 0.62999421]]\n"
          ],
          "name": "stdout"
        },
        {
          "output_type": "display_data",
          "data": {
            "image/png": "[encoded data removed]",
            "text/plain": [
              "<Figure size 432x288 with 2 Axes>"
            ]
          },
          "metadata": {
            "tags": []
          }
        },
        {
          "output_type": "stream",
          "text": [
            "Accuracy for Gaussian NB from LSI:  0.7263157894736842\n",
            "Average precision-recall score for Gaussian NB from LSI: 0.6409820758584968\n",
            "Precision score for Gaussian NB from LSI:  0.7436773752563226\n",
            "Recall score for Gaussian NB from LSI:  0.629994209612044\n",
            "F-1 score for Gaussian NB from LSI: 0.6821316614420063\n"
          ],
          "name": "stdout"
        },
        {
          "output_type": "display_data",
          "data": {
            "image/png": "[encoded data removed]",
            "text/plain": [
              "<Figure size 432x288 with 1 Axes>"
            ]
          },
          "metadata": {
            "tags": []
          }
        }
      ]
    },
    {
      "metadata": {
        "id": "nzXoEpUEmFgh",
        "colab_type": "code",
        "colab": {}
      },
      "cell_type": "code",
      "source": [
        ""
      ],
      "execution_count": 0,
      "outputs": []
    },
    {
      "metadata": {
        "id": "HPrRslP1mFgj",
        "colab_type": "code",
        "colab": {}
      },
      "cell_type": "code",
      "source": [
        ""
      ],
      "execution_count": 0,
      "outputs": []
    }
  ]
}